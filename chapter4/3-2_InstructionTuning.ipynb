{
  "cells": [
    {
      "cell_type": "markdown",
      "source": [
        "# 4.3 インストラクションチューニングによる質問応答のファインチューニング（評価コード）\n",
        "\n",
        "本Notebookでは、「3-1_InstructionTuning.ipynb」でファインチューニングされた文章生成AIモデルを評価します。"
      ],
      "metadata": {
        "id": "XZcaHT7lD4ut"
      },
      "id": "XZcaHT7lD4ut"
    },
    {
      "cell_type": "markdown",
      "source": [
        "## 評価"
      ],
      "metadata": {
        "id": "zgO1BKrYD8On"
      },
      "id": "zgO1BKrYD8On"
    },
    {
      "cell_type": "markdown",
      "source": [
        "### (1) ファインチューニング済みモデルの読み込み\n",
        "\n",
        "学習コードでファインチューニングしたモデルを読み込みます。  \n",
        "モデルのパスは学習コードに合わせて設定してください。\n",
        "\n"
      ],
      "metadata": {
        "id": "_RnVMhYtEAEI"
      },
      "id": "_RnVMhYtEAEI"
    },
    {
      "cell_type": "code",
      "source": [
        "import warnings\n",
        "warnings.simplefilter(\"ignore\")"
      ],
      "metadata": {
        "id": "szmak6Qfz0xQ"
      },
      "id": "szmak6Qfz0xQ",
      "execution_count": null,
      "outputs": []
    },
    {
      "cell_type": "code",
      "id": "fRtJlTgcdgwfCyCsj6ykArn2",
      "metadata": {
        "tags": [],
        "id": "fRtJlTgcdgwfCyCsj6ykArn2",
        "colab": {
          "base_uri": "https://localhost:8080/",
          "height": 1000,
          "referenced_widgets": [
            "e9590a21212644beb3a57a9c6dd1d932",
            "52d7a60b1c284c2dbd53fb6b32a7cc5f",
            "8cefb5483cf14e0291d3b99e828c8f60",
            "0bc2468280194fd599eb7b1d073a73ae",
            "4a4dc23eef1d4117b4bc3a7049517829",
            "bb4fae5ce62d40a29c3e3992864ddbf1",
            "1c27e9983eaf471d9cc7feae22951dc8",
            "7436d5ba3a184ed6ae63152a5e7be102",
            "5ff7c727cd0e416187ae044be24de5a3",
            "56d3775d7cf94c8aad2069e5277eaa18",
            "b1533c33accb41479cc511b9c5623b7c"
          ]
        },
        "executionInfo": {
          "status": "ok",
          "timestamp": 1713235818306,
          "user_tz": -540,
          "elapsed": 39393,
          "user": {
            "displayName": "",
            "userId": ""
          }
        },
        "outputId": "b45d787f-1975-4781-8d3f-dc325295c999"
      },
      "source": [
        "import torch\n",
        "from transformers import AutoTokenizer, AutoModelForCausalLM\n",
        "from peft import PeftModel\n",
        "\n",
        "\n",
        "# トークナイザ・モデルを読み込みます\n",
        "tokenizer = AutoTokenizer.from_pretrained(\"llm-jp/llm-jp-13b-v1.0\", use_fast=True)\n",
        "model = AutoModelForCausalLM.from_pretrained(\n",
        "    \"llm-jp/llm-jp-13b-v1.0\",\n",
        "    load_in_8bit=True, # 計算を効率化させるため、重みをint8として読み込みます\n",
        "    device_map=\"auto\"\n",
        "  )\n",
        "\n",
        "peft_model = PeftModel.from_pretrained(\n",
        "    model,\n",
        "    \"./training_logs\"\n",
        ")\n",
        "peft_model.eval()"
      ],
      "execution_count": null,
      "outputs": [
        {
          "output_type": "display_data",
          "data": {
            "text/plain": [
              "Loading checkpoint shards:   0%|          | 0/3 [00:00<?, ?it/s]"
            ],
            "application/vnd.jupyter.widget-view+json": {
              "version_major": 2,
              "version_minor": 0,
              "model_id": "e9590a21212644beb3a57a9c6dd1d932"
            }
          },
          "metadata": {}
        },
        {
          "output_type": "execute_result",
          "data": {
            "text/plain": [
              "PeftModelForCausalLM(\n",
              "  (base_model): LoraModel(\n",
              "    (model): GPT2LMHeadModel(\n",
              "      (transformer): GPT2Model(\n",
              "        (wte): Embedding(50688, 5120)\n",
              "        (wpe): Embedding(2048, 5120)\n",
              "        (drop): Dropout(p=0.1, inplace=False)\n",
              "        (h): ModuleList(\n",
              "          (0-39): 40 x GPT2Block(\n",
              "            (ln_1): LayerNorm((5120,), eps=1e-05, elementwise_affine=True)\n",
              "            (attn): GPT2Attention(\n",
              "              (c_attn): lora.Linear8bitLt(\n",
              "                (base_layer): Linear8bitLt(in_features=5120, out_features=15360, bias=True)\n",
              "                (lora_dropout): ModuleDict(\n",
              "                  (default): Dropout(p=0.05, inplace=False)\n",
              "                )\n",
              "                (lora_A): ModuleDict(\n",
              "                  (default): Linear(in_features=5120, out_features=8, bias=False)\n",
              "                )\n",
              "                (lora_B): ModuleDict(\n",
              "                  (default): Linear(in_features=8, out_features=15360, bias=False)\n",
              "                )\n",
              "                (lora_embedding_A): ParameterDict()\n",
              "                (lora_embedding_B): ParameterDict()\n",
              "              )\n",
              "              (c_proj): lora.Linear8bitLt(\n",
              "                (base_layer): Linear8bitLt(in_features=5120, out_features=5120, bias=True)\n",
              "                (lora_dropout): ModuleDict(\n",
              "                  (default): Dropout(p=0.05, inplace=False)\n",
              "                )\n",
              "                (lora_A): ModuleDict(\n",
              "                  (default): Linear(in_features=5120, out_features=8, bias=False)\n",
              "                )\n",
              "                (lora_B): ModuleDict(\n",
              "                  (default): Linear(in_features=8, out_features=5120, bias=False)\n",
              "                )\n",
              "                (lora_embedding_A): ParameterDict()\n",
              "                (lora_embedding_B): ParameterDict()\n",
              "              )\n",
              "              (attn_dropout): Dropout(p=0.1, inplace=False)\n",
              "              (resid_dropout): Dropout(p=0.1, inplace=False)\n",
              "            )\n",
              "            (ln_2): LayerNorm((5120,), eps=1e-05, elementwise_affine=True)\n",
              "            (mlp): GPT2MLP(\n",
              "              (c_fc): lora.Linear8bitLt(\n",
              "                (base_layer): Linear8bitLt(in_features=5120, out_features=20480, bias=True)\n",
              "                (lora_dropout): ModuleDict(\n",
              "                  (default): Dropout(p=0.05, inplace=False)\n",
              "                )\n",
              "                (lora_A): ModuleDict(\n",
              "                  (default): Linear(in_features=5120, out_features=8, bias=False)\n",
              "                )\n",
              "                (lora_B): ModuleDict(\n",
              "                  (default): Linear(in_features=8, out_features=20480, bias=False)\n",
              "                )\n",
              "                (lora_embedding_A): ParameterDict()\n",
              "                (lora_embedding_B): ParameterDict()\n",
              "              )\n",
              "              (c_proj): lora.Linear8bitLt(\n",
              "                (base_layer): Linear8bitLt(in_features=20480, out_features=5120, bias=True)\n",
              "                (lora_dropout): ModuleDict(\n",
              "                  (default): Dropout(p=0.05, inplace=False)\n",
              "                )\n",
              "                (lora_A): ModuleDict(\n",
              "                  (default): Linear(in_features=20480, out_features=8, bias=False)\n",
              "                )\n",
              "                (lora_B): ModuleDict(\n",
              "                  (default): Linear(in_features=8, out_features=5120, bias=False)\n",
              "                )\n",
              "                (lora_embedding_A): ParameterDict()\n",
              "                (lora_embedding_B): ParameterDict()\n",
              "              )\n",
              "              (act): GELUActivation()\n",
              "              (dropout): Dropout(p=0.1, inplace=False)\n",
              "            )\n",
              "          )\n",
              "        )\n",
              "        (ln_f): LayerNorm((5120,), eps=1e-05, elementwise_affine=True)\n",
              "      )\n",
              "      (lm_head): Linear(in_features=5120, out_features=50688, bias=False)\n",
              "    )\n",
              "  )\n",
              ")"
            ]
          },
          "metadata": {},
          "execution_count": 2
        }
      ]
    },
    {
      "cell_type": "markdown",
      "source": [
        "### (2) データセットの前処理\n",
        "\n",
        "データセットを前処理します。"
      ],
      "metadata": {
        "id": "2iTGctOSEDYY"
      },
      "id": "2iTGctOSEDYY"
    },
    {
      "cell_type": "code",
      "source": [
        "import pandas as pd\n",
        "from datasets import load_dataset, Dataset\n",
        "\n",
        "# JCommonsenseQAをダウンロードし、データフレームに変換する\n",
        "dataset_qa = load_dataset(\"shunk031/JGLUE\", name=\"JCommonsenseQA\")\n",
        "train_df_qa = dataset_qa[\"train\"].to_pandas()\n",
        "test_df_qa = dataset_qa[\"validation\"].to_pandas()\n",
        "\n",
        "# JCommonsenseQAデータセットの整備\n",
        "def preprocess_qa_df(df):\n",
        "  qa_instruction_text = \"質問と選択肢を入力として、選択肢から回答を出力してください。また、回答は選択肢から１つを選択し、番号で回答してください。数値で回答し、他の文字は含めないでください。\"\n",
        "  df[\"instruction\"] = qa_instruction_text\n",
        "  df[\"input\"] = df.apply(lambda x: f\"質問:\\n{x['question']}\\n選択肢:\\n0.{x['choice0']} 1.{x['choice1']} 2.{x['choice2']} 3.{x['choice3']} 4.{x['choice4']}\", axis=1)\n",
        "  df[\"output\"] = df[\"label\"].astype(str)\n",
        "  df = df[[\"instruction\", \"input\", \"output\"]]\n",
        "  return df\n",
        "\n",
        "train_df_qa = preprocess_qa_df(train_df_qa)\n",
        "test_df_qa = preprocess_qa_df(test_df_qa)\n",
        "\n",
        "# datasetクラスに変換する\n",
        "dataset_train = Dataset.from_pandas(train_df_qa)\n",
        "dataset_train = dataset_train.train_test_split(train_size=0.9, seed=42)\n",
        "dataset_test = Dataset.from_pandas(test_df_qa)\n",
        "\n",
        "# 推論用にデータセット前処理\n",
        "def add_text(example):\n",
        "    example[\"text\"] = f\"### 指示:\\n{example['instruction']}\\n\\n### 入力:\\n{example['input']}\\n\\n### 回答:\\n\"\n",
        "    return example\n",
        "\n",
        "dataset_test = dataset_test.map(add_text)"
      ],
      "metadata": {
        "id": "82_GRqmQEE8K",
        "colab": {
          "base_uri": "https://localhost:8080/",
          "height": 49,
          "referenced_widgets": [
            "76a1ba6688ff48708de15c304038780a",
            "a3c683d498c343b08298ef016b0039ac",
            "e52210cd82cb404c9468abc0aa280de7",
            "324a5d3c9089427d98ee950d7edcee9a",
            "93e5806bff524a10b8203158b738b774",
            "3adbc95e10df4d9082f82477bb37877e",
            "75ec593b0c8c405d9bc1eaf3adbdd58f",
            "c3685feeb4694a64aedffe859851a6e8",
            "3ae8ce3f0dc9401bae8de810bbe92b1b",
            "f5262e3c07b54afbb295dcdf30a56421",
            "9a7c7afc906e43d6b2aa5950f8d6342c"
          ]
        },
        "executionInfo": {
          "status": "ok",
          "timestamp": 1713235820719,
          "user_tz": -540,
          "elapsed": 2414,
          "user": {
            "displayName": "",
            "userId": ""
          }
        },
        "outputId": "222cb233-8397-4619-ed35-98795409bfd8"
      },
      "id": "82_GRqmQEE8K",
      "execution_count": null,
      "outputs": [
        {
          "output_type": "display_data",
          "data": {
            "text/plain": [
              "Map:   0%|          | 0/1119 [00:00<?, ? examples/s]"
            ],
            "application/vnd.jupyter.widget-view+json": {
              "version_major": 2,
              "version_minor": 0,
              "model_id": "76a1ba6688ff48708de15c304038780a"
            }
          },
          "metadata": {}
        }
      ]
    },
    {
      "cell_type": "markdown",
      "source": [
        "### (3) 推論の実行\n",
        "\n",
        "推論を実行する関数を作成します。"
      ],
      "metadata": {
        "id": "673SrhVMgWdJ"
      },
      "id": "673SrhVMgWdJ"
    },
    {
      "cell_type": "code",
      "source": [
        "def generate(prompt, return_full_text=False, max_token=100):\n",
        "    input_ids = tokenizer.encode(\n",
        "        prompt,\n",
        "        add_special_tokens=False,\n",
        "        return_tensors=\"pt\"\n",
        "    ).to(device=peft_model.device)\n",
        "    output_ids = peft_model.generate(\n",
        "        input_ids=input_ids,\n",
        "        pad_token_id=tokenizer.pad_token_id,\n",
        "        max_length=max_token,\n",
        "        temperature=0,\n",
        "        num_return_sequences=1\n",
        "    )\n",
        "    if return_full_text:\n",
        "        return tokenizer.decode(output_ids.tolist()[0])\n",
        "    output = tokenizer.decode(output_ids.tolist()[0][input_ids.size(1):])\n",
        "    return output\n",
        "\n",
        "prompt = \"\"\"\n",
        "### 指示:\n",
        "以下の質問に回答してください。\n",
        "\n",
        "### 入力:\n",
        "日本一高い山は？\n",
        "\n",
        "### 回答:\n",
        "\"\"\"\n",
        "\n",
        "print(generate(prompt, True))"
      ],
      "metadata": {
        "id": "ttY7DOe5EEl0",
        "colab": {
          "base_uri": "https://localhost:8080/"
        },
        "executionInfo": {
          "status": "ok",
          "timestamp": 1713235824539,
          "user_tz": -540,
          "elapsed": 3822,
          "user": {
            "displayName": "",
            "userId": ""
          }
        },
        "outputId": "37e98488-7a44-4707-e542-abf91dca47e5"
      },
      "id": "ttY7DOe5EEl0",
      "execution_count": null,
      "outputs": [
        {
          "output_type": "stream",
          "name": "stdout",
          "text": [
            "\n",
            "### 指示:\n",
            "以下の質問に回答してください。\n",
            "\n",
            "### 入力:\n",
            "日本一高い山は？\n",
            "\n",
            "### 回答:\n",
            "富士山<EOD|LLM-jp>\n"
          ]
        }
      ]
    },
    {
      "cell_type": "markdown",
      "source": [
        "### (4) 精度の評価\n",
        "\n",
        "精度評価を実施します。"
      ],
      "metadata": {
        "id": "PtAhFlPvEI2d"
      },
      "id": "PtAhFlPvEI2d"
    },
    {
      "cell_type": "code",
      "source": [
        "import numpy as np\n",
        "from tqdm import tqdm\n",
        "from sklearn.metrics import accuracy_score\n",
        "\n",
        "\n",
        "def predict(prompt):\n",
        "    answer = generate(prompt, False)\n",
        "    try:\n",
        "      return int(answer[0])\n",
        "    except ValueError:\n",
        "      return -1\n",
        "\n",
        "y_preds = []\n",
        "for i in tqdm(range(len(dataset_test))):\n",
        "    y_preds.append(predict(dataset_test[\"text\"][i]))\n",
        "\n",
        "y_true = dataset_test[\"output\"]\n",
        "y_true = [int(i) for i in y_true]\n",
        "\n",
        "y_preds = np.array(y_preds)\n",
        "y_true = np.array(y_true)\n",
        "\n",
        "print(f\"accuracy : {accuracy_score(y_true, y_preds):.3f}\")"
      ],
      "metadata": {
        "id": "AMIhfyf3EJ94",
        "colab": {
          "base_uri": "https://localhost:8080/"
        },
        "executionInfo": {
          "status": "ok",
          "timestamp": 1713236102076,
          "user_tz": -540,
          "elapsed": 277539,
          "user": {
            "displayName": "",
            "userId": ""
          }
        },
        "outputId": "86b00531-d2c6-474e-e153-9516c6dac219"
      },
      "id": "AMIhfyf3EJ94",
      "execution_count": null,
      "outputs": [
        {
          "output_type": "stream",
          "name": "stderr",
          "text": [
            "100%|██████████| 1119/1119 [04:37<00:00,  4.03it/s]"
          ]
        },
        {
          "output_type": "stream",
          "name": "stdout",
          "text": [
            "accuracy : 0.903\n"
          ]
        },
        {
          "output_type": "stream",
          "name": "stderr",
          "text": [
            "\n"
          ]
        }
      ]
    },
    {
      "cell_type": "markdown",
      "source": [
        "## 応用レシピ"
      ],
      "metadata": {
        "id": "SWSCT3pSELkg"
      },
      "id": "SWSCT3pSELkg"
    },
    {
      "cell_type": "markdown",
      "source": [
        "### (1) 回答の長さの制御\n",
        "\n",
        "回答の長さを制御する指示を与えて文章を生成します。"
      ],
      "metadata": {
        "id": "4YXC9z34EQ5g"
      },
      "id": "4YXC9z34EQ5g"
    },
    {
      "cell_type": "code",
      "source": [
        "prompt = \"\"\"\n",
        "### 指示:\n",
        "以下の質問に答えてください。\n",
        "\n",
        "### 入力:\n",
        "アマゾン川はどこにありますか？\n",
        "\n",
        "### 回答:\n",
        "\"\"\"\n",
        "\n",
        "print(generate(prompt, True, 256))"
      ],
      "metadata": {
        "id": "O2vg5JavERJv",
        "colab": {
          "base_uri": "https://localhost:8080/"
        },
        "executionInfo": {
          "status": "ok",
          "timestamp": 1713236110066,
          "user_tz": -540,
          "elapsed": 7632,
          "user": {
            "displayName": "",
            "userId": ""
          }
        },
        "outputId": "8a1d09dd-59ff-4193-93a0-12735de309cd"
      },
      "id": "O2vg5JavERJv",
      "execution_count": null,
      "outputs": [
        {
          "output_type": "stream",
          "name": "stdout",
          "text": [
            "\n",
            "### 指示:\n",
            "以下の質問に答えてください。\n",
            "\n",
            "### 入力:\n",
            "アマゾン川はどこにありますか？\n",
            "\n",
            "### 回答:\n",
            "アマゾン川は南米のブラジルとペルーの国境にあるアマゾン川の源流から始まり、南アメリカのブラジルの南東部を流れ、大西洋に注いでいます。<EOD|LLM-jp>\n"
          ]
        }
      ]
    },
    {
      "cell_type": "code",
      "source": [
        "prompt = \"\"\"\n",
        "### 指示:\n",
        "以下の質問に20字以内で答えてください。\n",
        "\n",
        "### 入力:\n",
        "アマゾン川はどこにありますか？\n",
        "\n",
        "### 回答:\n",
        "\"\"\"\n",
        "\n",
        "print(generate(prompt, True, 256))"
      ],
      "metadata": {
        "id": "P0FyBeMfETy3",
        "colab": {
          "base_uri": "https://localhost:8080/"
        },
        "executionInfo": {
          "status": "ok",
          "timestamp": 1713236111150,
          "user_tz": -540,
          "elapsed": 1097,
          "user": {
            "displayName": "",
            "userId": ""
          }
        },
        "outputId": "5d6e306b-8780-424d-c18a-0bac42fd827c"
      },
      "id": "P0FyBeMfETy3",
      "execution_count": null,
      "outputs": [
        {
          "output_type": "stream",
          "name": "stdout",
          "text": [
            "\n",
            "### 指示:\n",
            "以下の質問に20字以内で答えてください。\n",
            "\n",
            "### 入力:\n",
            "アマゾン川はどこにありますか？\n",
            "\n",
            "### 回答:\n",
            "ブラジルの南東部<EOD|LLM-jp>\n"
          ]
        }
      ]
    },
    {
      "cell_type": "markdown",
      "source": [
        "### (2) 回答の形式の制御\n",
        "\n",
        "回答の形式を指示するプロンプトを与えます。"
      ],
      "metadata": {
        "id": "xZNfxLv9Hh8m"
      },
      "id": "xZNfxLv9Hh8m"
    },
    {
      "cell_type": "code",
      "source": [
        "# InstructionTuningに含まれていない文言は再現できません\n",
        "prompt = \"\"\"\n",
        "### 指示:\n",
        "以下の質問に箇条書きで３つ答えてください。\n",
        "\n",
        "### 入力:\n",
        "ブラジルの川は？\n",
        "\n",
        "### 回答:\n",
        "\"\"\"\n",
        "\n",
        "print(generate(prompt, True, 256))"
      ],
      "metadata": {
        "id": "BHhBLdtTEU71",
        "colab": {
          "base_uri": "https://localhost:8080/"
        },
        "executionInfo": {
          "status": "ok",
          "timestamp": 1713236111865,
          "user_tz": -540,
          "elapsed": 717,
          "user": {
            "displayName": "",
            "userId": ""
          }
        },
        "outputId": "1a60f64d-ec83-45ec-fa78-27dfdd2c6e06"
      },
      "id": "BHhBLdtTEU71",
      "execution_count": null,
      "outputs": [
        {
          "output_type": "stream",
          "name": "stdout",
          "text": [
            "\n",
            "### 指示:\n",
            "以下の質問に箇条書きで３つ答えてください。\n",
            "\n",
            "### 入力:\n",
            "ブラジルの川は？\n",
            "\n",
            "### 回答:\n",
            "アマゾン川<EOD|LLM-jp>\n"
          ]
        }
      ]
    },
    {
      "cell_type": "markdown",
      "source": [
        "### (3) 学習したタスクと同じタスクを解く\n",
        "\n",
        "学習データに入っているタスクと同じ指示を与えて文章生成させます。"
      ],
      "metadata": {
        "id": "Ir-cyH08EXKi"
      },
      "id": "Ir-cyH08EXKi"
    },
    {
      "cell_type": "code",
      "source": [
        "prompt = \"\"\"\n",
        "### 指示:\n",
        "入力されたワードを説明してください。\n",
        "\n",
        "### 入力:\n",
        "プログラミング\n",
        "\n",
        "### 回答:\n",
        "\"\"\"\n",
        "\n",
        "print(generate(prompt, True, 256))"
      ],
      "metadata": {
        "id": "6_PRudV8EXix",
        "colab": {
          "base_uri": "https://localhost:8080/"
        },
        "executionInfo": {
          "status": "ok",
          "timestamp": 1713236118819,
          "user_tz": -540,
          "elapsed": 6956,
          "user": {
            "displayName": "",
            "userId": ""
          }
        },
        "outputId": "d75cac6b-4740-48b7-bdaa-7549598c9bcb"
      },
      "id": "6_PRudV8EXix",
      "execution_count": null,
      "outputs": [
        {
          "output_type": "stream",
          "name": "stdout",
          "text": [
            "\n",
            "### 指示:\n",
            "入力されたワードを説明してください。\n",
            "\n",
            "### 入力:\n",
            "プログラミング\n",
            "\n",
            "### 回答:\n",
            "プログラミング（Programming）とは、コンピュータに何らかの処理をさせるための手順を記述することである。プログラミング言語を用いて記述する。<EOD|LLM-jp>\n"
          ]
        }
      ]
    },
    {
      "cell_type": "code",
      "source": [
        "prompt = \"\"\"\n",
        "### 指示:\n",
        "入力されたワードを説明してください。\n",
        "\n",
        "### 入力:\n",
        "大規模言語モデル\n",
        "\n",
        "### 回答:\n",
        "\"\"\"\n",
        "\n",
        "print(generate(prompt, True, 256))"
      ],
      "metadata": {
        "id": "66ugM-fjEYlX",
        "colab": {
          "base_uri": "https://localhost:8080/"
        },
        "executionInfo": {
          "status": "ok",
          "timestamp": 1713236129288,
          "user_tz": -540,
          "elapsed": 10479,
          "user": {
            "displayName": "",
            "userId": ""
          }
        },
        "outputId": "9fb70780-63b5-4284-d56b-8a6970c75982"
      },
      "id": "66ugM-fjEYlX",
      "execution_count": null,
      "outputs": [
        {
          "output_type": "stream",
          "name": "stdout",
          "text": [
            "\n",
            "### 指示:\n",
            "入力されたワードを説明してください。\n",
            "\n",
            "### 入力:\n",
            "大規模言語モデル\n",
            "\n",
            "### 回答:\n",
            "大規模言語モデル（だいきぼげんごモデル、）は、自然言語処理の分野で、大規模なデータセットを用いて、統計的機械学習手法を用いて、言語モデルを構築する手法である。<EOD|LLM-jp>\n"
          ]
        }
      ]
    },
    {
      "cell_type": "code",
      "source": [],
      "metadata": {
        "id": "7Yx-_78JzcSt"
      },
      "id": "7Yx-_78JzcSt",
      "execution_count": null,
      "outputs": []
    }
  ],
  "metadata": {
    "kernelspec": {
      "display_name": "Python 3",
      "language": "python",
      "name": "python3"
    },
    "language_info": {
      "codemirror_mode": {
        "name": "ipython",
        "version": 3
      },
      "file_extension": ".py",
      "mimetype": "text/x-python",
      "name": "python",
      "nbconvert_exporter": "python",
      "pygments_lexer": "ipython3",
      "version": "3.10.10"
    },
    "colab": {
      "provenance": [],
      "name": "3-2_InstructionTuning.ipynb",
      "toc_visible": true
    },
    "widgets": {
      "application/vnd.jupyter.widget-state+json": {
        "e9590a21212644beb3a57a9c6dd1d932": {
          "model_module": "@jupyter-widgets/controls",
          "model_name": "HBoxModel",
          "model_module_version": "1.5.0",
          "state": {
            "_dom_classes": [],
            "_model_module": "@jupyter-widgets/controls",
            "_model_module_version": "1.5.0",
            "_model_name": "HBoxModel",
            "_view_count": null,
            "_view_module": "@jupyter-widgets/controls",
            "_view_module_version": "1.5.0",
            "_view_name": "HBoxView",
            "box_style": "",
            "children": [
              "IPY_MODEL_52d7a60b1c284c2dbd53fb6b32a7cc5f",
              "IPY_MODEL_8cefb5483cf14e0291d3b99e828c8f60",
              "IPY_MODEL_0bc2468280194fd599eb7b1d073a73ae"
            ],
            "layout": "IPY_MODEL_4a4dc23eef1d4117b4bc3a7049517829"
          }
        },
        "52d7a60b1c284c2dbd53fb6b32a7cc5f": {
          "model_module": "@jupyter-widgets/controls",
          "model_name": "HTMLModel",
          "model_module_version": "1.5.0",
          "state": {
            "_dom_classes": [],
            "_model_module": "@jupyter-widgets/controls",
            "_model_module_version": "1.5.0",
            "_model_name": "HTMLModel",
            "_view_count": null,
            "_view_module": "@jupyter-widgets/controls",
            "_view_module_version": "1.5.0",
            "_view_name": "HTMLView",
            "description": "",
            "description_tooltip": null,
            "layout": "IPY_MODEL_bb4fae5ce62d40a29c3e3992864ddbf1",
            "placeholder": "​",
            "style": "IPY_MODEL_1c27e9983eaf471d9cc7feae22951dc8",
            "value": "Loading checkpoint shards: 100%"
          }
        },
        "8cefb5483cf14e0291d3b99e828c8f60": {
          "model_module": "@jupyter-widgets/controls",
          "model_name": "FloatProgressModel",
          "model_module_version": "1.5.0",
          "state": {
            "_dom_classes": [],
            "_model_module": "@jupyter-widgets/controls",
            "_model_module_version": "1.5.0",
            "_model_name": "FloatProgressModel",
            "_view_count": null,
            "_view_module": "@jupyter-widgets/controls",
            "_view_module_version": "1.5.0",
            "_view_name": "ProgressView",
            "bar_style": "success",
            "description": "",
            "description_tooltip": null,
            "layout": "IPY_MODEL_7436d5ba3a184ed6ae63152a5e7be102",
            "max": 3,
            "min": 0,
            "orientation": "horizontal",
            "style": "IPY_MODEL_5ff7c727cd0e416187ae044be24de5a3",
            "value": 3
          }
        },
        "0bc2468280194fd599eb7b1d073a73ae": {
          "model_module": "@jupyter-widgets/controls",
          "model_name": "HTMLModel",
          "model_module_version": "1.5.0",
          "state": {
            "_dom_classes": [],
            "_model_module": "@jupyter-widgets/controls",
            "_model_module_version": "1.5.0",
            "_model_name": "HTMLModel",
            "_view_count": null,
            "_view_module": "@jupyter-widgets/controls",
            "_view_module_version": "1.5.0",
            "_view_name": "HTMLView",
            "description": "",
            "description_tooltip": null,
            "layout": "IPY_MODEL_56d3775d7cf94c8aad2069e5277eaa18",
            "placeholder": "​",
            "style": "IPY_MODEL_b1533c33accb41479cc511b9c5623b7c",
            "value": " 3/3 [00:32&lt;00:00, 10.20s/it]"
          }
        },
        "4a4dc23eef1d4117b4bc3a7049517829": {
          "model_module": "@jupyter-widgets/base",
          "model_name": "LayoutModel",
          "model_module_version": "1.2.0",
          "state": {
            "_model_module": "@jupyter-widgets/base",
            "_model_module_version": "1.2.0",
            "_model_name": "LayoutModel",
            "_view_count": null,
            "_view_module": "@jupyter-widgets/base",
            "_view_module_version": "1.2.0",
            "_view_name": "LayoutView",
            "align_content": null,
            "align_items": null,
            "align_self": null,
            "border": null,
            "bottom": null,
            "display": null,
            "flex": null,
            "flex_flow": null,
            "grid_area": null,
            "grid_auto_columns": null,
            "grid_auto_flow": null,
            "grid_auto_rows": null,
            "grid_column": null,
            "grid_gap": null,
            "grid_row": null,
            "grid_template_areas": null,
            "grid_template_columns": null,
            "grid_template_rows": null,
            "height": null,
            "justify_content": null,
            "justify_items": null,
            "left": null,
            "margin": null,
            "max_height": null,
            "max_width": null,
            "min_height": null,
            "min_width": null,
            "object_fit": null,
            "object_position": null,
            "order": null,
            "overflow": null,
            "overflow_x": null,
            "overflow_y": null,
            "padding": null,
            "right": null,
            "top": null,
            "visibility": null,
            "width": null
          }
        },
        "bb4fae5ce62d40a29c3e3992864ddbf1": {
          "model_module": "@jupyter-widgets/base",
          "model_name": "LayoutModel",
          "model_module_version": "1.2.0",
          "state": {
            "_model_module": "@jupyter-widgets/base",
            "_model_module_version": "1.2.0",
            "_model_name": "LayoutModel",
            "_view_count": null,
            "_view_module": "@jupyter-widgets/base",
            "_view_module_version": "1.2.0",
            "_view_name": "LayoutView",
            "align_content": null,
            "align_items": null,
            "align_self": null,
            "border": null,
            "bottom": null,
            "display": null,
            "flex": null,
            "flex_flow": null,
            "grid_area": null,
            "grid_auto_columns": null,
            "grid_auto_flow": null,
            "grid_auto_rows": null,
            "grid_column": null,
            "grid_gap": null,
            "grid_row": null,
            "grid_template_areas": null,
            "grid_template_columns": null,
            "grid_template_rows": null,
            "height": null,
            "justify_content": null,
            "justify_items": null,
            "left": null,
            "margin": null,
            "max_height": null,
            "max_width": null,
            "min_height": null,
            "min_width": null,
            "object_fit": null,
            "object_position": null,
            "order": null,
            "overflow": null,
            "overflow_x": null,
            "overflow_y": null,
            "padding": null,
            "right": null,
            "top": null,
            "visibility": null,
            "width": null
          }
        },
        "1c27e9983eaf471d9cc7feae22951dc8": {
          "model_module": "@jupyter-widgets/controls",
          "model_name": "DescriptionStyleModel",
          "model_module_version": "1.5.0",
          "state": {
            "_model_module": "@jupyter-widgets/controls",
            "_model_module_version": "1.5.0",
            "_model_name": "DescriptionStyleModel",
            "_view_count": null,
            "_view_module": "@jupyter-widgets/base",
            "_view_module_version": "1.2.0",
            "_view_name": "StyleView",
            "description_width": ""
          }
        },
        "7436d5ba3a184ed6ae63152a5e7be102": {
          "model_module": "@jupyter-widgets/base",
          "model_name": "LayoutModel",
          "model_module_version": "1.2.0",
          "state": {
            "_model_module": "@jupyter-widgets/base",
            "_model_module_version": "1.2.0",
            "_model_name": "LayoutModel",
            "_view_count": null,
            "_view_module": "@jupyter-widgets/base",
            "_view_module_version": "1.2.0",
            "_view_name": "LayoutView",
            "align_content": null,
            "align_items": null,
            "align_self": null,
            "border": null,
            "bottom": null,
            "display": null,
            "flex": null,
            "flex_flow": null,
            "grid_area": null,
            "grid_auto_columns": null,
            "grid_auto_flow": null,
            "grid_auto_rows": null,
            "grid_column": null,
            "grid_gap": null,
            "grid_row": null,
            "grid_template_areas": null,
            "grid_template_columns": null,
            "grid_template_rows": null,
            "height": null,
            "justify_content": null,
            "justify_items": null,
            "left": null,
            "margin": null,
            "max_height": null,
            "max_width": null,
            "min_height": null,
            "min_width": null,
            "object_fit": null,
            "object_position": null,
            "order": null,
            "overflow": null,
            "overflow_x": null,
            "overflow_y": null,
            "padding": null,
            "right": null,
            "top": null,
            "visibility": null,
            "width": null
          }
        },
        "5ff7c727cd0e416187ae044be24de5a3": {
          "model_module": "@jupyter-widgets/controls",
          "model_name": "ProgressStyleModel",
          "model_module_version": "1.5.0",
          "state": {
            "_model_module": "@jupyter-widgets/controls",
            "_model_module_version": "1.5.0",
            "_model_name": "ProgressStyleModel",
            "_view_count": null,
            "_view_module": "@jupyter-widgets/base",
            "_view_module_version": "1.2.0",
            "_view_name": "StyleView",
            "bar_color": null,
            "description_width": ""
          }
        },
        "56d3775d7cf94c8aad2069e5277eaa18": {
          "model_module": "@jupyter-widgets/base",
          "model_name": "LayoutModel",
          "model_module_version": "1.2.0",
          "state": {
            "_model_module": "@jupyter-widgets/base",
            "_model_module_version": "1.2.0",
            "_model_name": "LayoutModel",
            "_view_count": null,
            "_view_module": "@jupyter-widgets/base",
            "_view_module_version": "1.2.0",
            "_view_name": "LayoutView",
            "align_content": null,
            "align_items": null,
            "align_self": null,
            "border": null,
            "bottom": null,
            "display": null,
            "flex": null,
            "flex_flow": null,
            "grid_area": null,
            "grid_auto_columns": null,
            "grid_auto_flow": null,
            "grid_auto_rows": null,
            "grid_column": null,
            "grid_gap": null,
            "grid_row": null,
            "grid_template_areas": null,
            "grid_template_columns": null,
            "grid_template_rows": null,
            "height": null,
            "justify_content": null,
            "justify_items": null,
            "left": null,
            "margin": null,
            "max_height": null,
            "max_width": null,
            "min_height": null,
            "min_width": null,
            "object_fit": null,
            "object_position": null,
            "order": null,
            "overflow": null,
            "overflow_x": null,
            "overflow_y": null,
            "padding": null,
            "right": null,
            "top": null,
            "visibility": null,
            "width": null
          }
        },
        "b1533c33accb41479cc511b9c5623b7c": {
          "model_module": "@jupyter-widgets/controls",
          "model_name": "DescriptionStyleModel",
          "model_module_version": "1.5.0",
          "state": {
            "_model_module": "@jupyter-widgets/controls",
            "_model_module_version": "1.5.0",
            "_model_name": "DescriptionStyleModel",
            "_view_count": null,
            "_view_module": "@jupyter-widgets/base",
            "_view_module_version": "1.2.0",
            "_view_name": "StyleView",
            "description_width": ""
          }
        },
        "76a1ba6688ff48708de15c304038780a": {
          "model_module": "@jupyter-widgets/controls",
          "model_name": "HBoxModel",
          "model_module_version": "1.5.0",
          "state": {
            "_dom_classes": [],
            "_model_module": "@jupyter-widgets/controls",
            "_model_module_version": "1.5.0",
            "_model_name": "HBoxModel",
            "_view_count": null,
            "_view_module": "@jupyter-widgets/controls",
            "_view_module_version": "1.5.0",
            "_view_name": "HBoxView",
            "box_style": "",
            "children": [
              "IPY_MODEL_a3c683d498c343b08298ef016b0039ac",
              "IPY_MODEL_e52210cd82cb404c9468abc0aa280de7",
              "IPY_MODEL_324a5d3c9089427d98ee950d7edcee9a"
            ],
            "layout": "IPY_MODEL_93e5806bff524a10b8203158b738b774"
          }
        },
        "a3c683d498c343b08298ef016b0039ac": {
          "model_module": "@jupyter-widgets/controls",
          "model_name": "HTMLModel",
          "model_module_version": "1.5.0",
          "state": {
            "_dom_classes": [],
            "_model_module": "@jupyter-widgets/controls",
            "_model_module_version": "1.5.0",
            "_model_name": "HTMLModel",
            "_view_count": null,
            "_view_module": "@jupyter-widgets/controls",
            "_view_module_version": "1.5.0",
            "_view_name": "HTMLView",
            "description": "",
            "description_tooltip": null,
            "layout": "IPY_MODEL_3adbc95e10df4d9082f82477bb37877e",
            "placeholder": "​",
            "style": "IPY_MODEL_75ec593b0c8c405d9bc1eaf3adbdd58f",
            "value": "Map: 100%"
          }
        },
        "e52210cd82cb404c9468abc0aa280de7": {
          "model_module": "@jupyter-widgets/controls",
          "model_name": "FloatProgressModel",
          "model_module_version": "1.5.0",
          "state": {
            "_dom_classes": [],
            "_model_module": "@jupyter-widgets/controls",
            "_model_module_version": "1.5.0",
            "_model_name": "FloatProgressModel",
            "_view_count": null,
            "_view_module": "@jupyter-widgets/controls",
            "_view_module_version": "1.5.0",
            "_view_name": "ProgressView",
            "bar_style": "success",
            "description": "",
            "description_tooltip": null,
            "layout": "IPY_MODEL_c3685feeb4694a64aedffe859851a6e8",
            "max": 1119,
            "min": 0,
            "orientation": "horizontal",
            "style": "IPY_MODEL_3ae8ce3f0dc9401bae8de810bbe92b1b",
            "value": 1119
          }
        },
        "324a5d3c9089427d98ee950d7edcee9a": {
          "model_module": "@jupyter-widgets/controls",
          "model_name": "HTMLModel",
          "model_module_version": "1.5.0",
          "state": {
            "_dom_classes": [],
            "_model_module": "@jupyter-widgets/controls",
            "_model_module_version": "1.5.0",
            "_model_name": "HTMLModel",
            "_view_count": null,
            "_view_module": "@jupyter-widgets/controls",
            "_view_module_version": "1.5.0",
            "_view_name": "HTMLView",
            "description": "",
            "description_tooltip": null,
            "layout": "IPY_MODEL_f5262e3c07b54afbb295dcdf30a56421",
            "placeholder": "​",
            "style": "IPY_MODEL_9a7c7afc906e43d6b2aa5950f8d6342c",
            "value": " 1119/1119 [00:00&lt;00:00, 12566.40 examples/s]"
          }
        },
        "93e5806bff524a10b8203158b738b774": {
          "model_module": "@jupyter-widgets/base",
          "model_name": "LayoutModel",
          "model_module_version": "1.2.0",
          "state": {
            "_model_module": "@jupyter-widgets/base",
            "_model_module_version": "1.2.0",
            "_model_name": "LayoutModel",
            "_view_count": null,
            "_view_module": "@jupyter-widgets/base",
            "_view_module_version": "1.2.0",
            "_view_name": "LayoutView",
            "align_content": null,
            "align_items": null,
            "align_self": null,
            "border": null,
            "bottom": null,
            "display": null,
            "flex": null,
            "flex_flow": null,
            "grid_area": null,
            "grid_auto_columns": null,
            "grid_auto_flow": null,
            "grid_auto_rows": null,
            "grid_column": null,
            "grid_gap": null,
            "grid_row": null,
            "grid_template_areas": null,
            "grid_template_columns": null,
            "grid_template_rows": null,
            "height": null,
            "justify_content": null,
            "justify_items": null,
            "left": null,
            "margin": null,
            "max_height": null,
            "max_width": null,
            "min_height": null,
            "min_width": null,
            "object_fit": null,
            "object_position": null,
            "order": null,
            "overflow": null,
            "overflow_x": null,
            "overflow_y": null,
            "padding": null,
            "right": null,
            "top": null,
            "visibility": null,
            "width": null
          }
        },
        "3adbc95e10df4d9082f82477bb37877e": {
          "model_module": "@jupyter-widgets/base",
          "model_name": "LayoutModel",
          "model_module_version": "1.2.0",
          "state": {
            "_model_module": "@jupyter-widgets/base",
            "_model_module_version": "1.2.0",
            "_model_name": "LayoutModel",
            "_view_count": null,
            "_view_module": "@jupyter-widgets/base",
            "_view_module_version": "1.2.0",
            "_view_name": "LayoutView",
            "align_content": null,
            "align_items": null,
            "align_self": null,
            "border": null,
            "bottom": null,
            "display": null,
            "flex": null,
            "flex_flow": null,
            "grid_area": null,
            "grid_auto_columns": null,
            "grid_auto_flow": null,
            "grid_auto_rows": null,
            "grid_column": null,
            "grid_gap": null,
            "grid_row": null,
            "grid_template_areas": null,
            "grid_template_columns": null,
            "grid_template_rows": null,
            "height": null,
            "justify_content": null,
            "justify_items": null,
            "left": null,
            "margin": null,
            "max_height": null,
            "max_width": null,
            "min_height": null,
            "min_width": null,
            "object_fit": null,
            "object_position": null,
            "order": null,
            "overflow": null,
            "overflow_x": null,
            "overflow_y": null,
            "padding": null,
            "right": null,
            "top": null,
            "visibility": null,
            "width": null
          }
        },
        "75ec593b0c8c405d9bc1eaf3adbdd58f": {
          "model_module": "@jupyter-widgets/controls",
          "model_name": "DescriptionStyleModel",
          "model_module_version": "1.5.0",
          "state": {
            "_model_module": "@jupyter-widgets/controls",
            "_model_module_version": "1.5.0",
            "_model_name": "DescriptionStyleModel",
            "_view_count": null,
            "_view_module": "@jupyter-widgets/base",
            "_view_module_version": "1.2.0",
            "_view_name": "StyleView",
            "description_width": ""
          }
        },
        "c3685feeb4694a64aedffe859851a6e8": {
          "model_module": "@jupyter-widgets/base",
          "model_name": "LayoutModel",
          "model_module_version": "1.2.0",
          "state": {
            "_model_module": "@jupyter-widgets/base",
            "_model_module_version": "1.2.0",
            "_model_name": "LayoutModel",
            "_view_count": null,
            "_view_module": "@jupyter-widgets/base",
            "_view_module_version": "1.2.0",
            "_view_name": "LayoutView",
            "align_content": null,
            "align_items": null,
            "align_self": null,
            "border": null,
            "bottom": null,
            "display": null,
            "flex": null,
            "flex_flow": null,
            "grid_area": null,
            "grid_auto_columns": null,
            "grid_auto_flow": null,
            "grid_auto_rows": null,
            "grid_column": null,
            "grid_gap": null,
            "grid_row": null,
            "grid_template_areas": null,
            "grid_template_columns": null,
            "grid_template_rows": null,
            "height": null,
            "justify_content": null,
            "justify_items": null,
            "left": null,
            "margin": null,
            "max_height": null,
            "max_width": null,
            "min_height": null,
            "min_width": null,
            "object_fit": null,
            "object_position": null,
            "order": null,
            "overflow": null,
            "overflow_x": null,
            "overflow_y": null,
            "padding": null,
            "right": null,
            "top": null,
            "visibility": null,
            "width": null
          }
        },
        "3ae8ce3f0dc9401bae8de810bbe92b1b": {
          "model_module": "@jupyter-widgets/controls",
          "model_name": "ProgressStyleModel",
          "model_module_version": "1.5.0",
          "state": {
            "_model_module": "@jupyter-widgets/controls",
            "_model_module_version": "1.5.0",
            "_model_name": "ProgressStyleModel",
            "_view_count": null,
            "_view_module": "@jupyter-widgets/base",
            "_view_module_version": "1.2.0",
            "_view_name": "StyleView",
            "bar_color": null,
            "description_width": ""
          }
        },
        "f5262e3c07b54afbb295dcdf30a56421": {
          "model_module": "@jupyter-widgets/base",
          "model_name": "LayoutModel",
          "model_module_version": "1.2.0",
          "state": {
            "_model_module": "@jupyter-widgets/base",
            "_model_module_version": "1.2.0",
            "_model_name": "LayoutModel",
            "_view_count": null,
            "_view_module": "@jupyter-widgets/base",
            "_view_module_version": "1.2.0",
            "_view_name": "LayoutView",
            "align_content": null,
            "align_items": null,
            "align_self": null,
            "border": null,
            "bottom": null,
            "display": null,
            "flex": null,
            "flex_flow": null,
            "grid_area": null,
            "grid_auto_columns": null,
            "grid_auto_flow": null,
            "grid_auto_rows": null,
            "grid_column": null,
            "grid_gap": null,
            "grid_row": null,
            "grid_template_areas": null,
            "grid_template_columns": null,
            "grid_template_rows": null,
            "height": null,
            "justify_content": null,
            "justify_items": null,
            "left": null,
            "margin": null,
            "max_height": null,
            "max_width": null,
            "min_height": null,
            "min_width": null,
            "object_fit": null,
            "object_position": null,
            "order": null,
            "overflow": null,
            "overflow_x": null,
            "overflow_y": null,
            "padding": null,
            "right": null,
            "top": null,
            "visibility": null,
            "width": null
          }
        },
        "9a7c7afc906e43d6b2aa5950f8d6342c": {
          "model_module": "@jupyter-widgets/controls",
          "model_name": "DescriptionStyleModel",
          "model_module_version": "1.5.0",
          "state": {
            "_model_module": "@jupyter-widgets/controls",
            "_model_module_version": "1.5.0",
            "_model_name": "DescriptionStyleModel",
            "_view_count": null,
            "_view_module": "@jupyter-widgets/base",
            "_view_module_version": "1.2.0",
            "_view_name": "StyleView",
            "description_width": ""
          }
        }
      }
    }
  },
  "nbformat": 4,
  "nbformat_minor": 5
}