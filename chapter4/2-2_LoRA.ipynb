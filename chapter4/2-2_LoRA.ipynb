{
  "cells": [
    {
      "cell_type": "markdown",
      "source": [
        "# 4.2 LoRAによる質問応答のファインチューニング（推論コード）\n",
        "\n",
        "本Notebookでは、「2-2_LoRA.ipynb」でファインチューニングした文章生成AIモデルの評価を行います。  \n",
        "環境については、学習コードで使用した同じ環境を利用します。"
      ],
      "metadata": {
        "id": "LRYlLBZVB4gM"
      },
      "id": "LRYlLBZVB4gM"
    },
    {
      "cell_type": "markdown",
      "source": [
        "## 評価"
      ],
      "metadata": {
        "id": "ACMm0jSuCBCU"
      },
      "id": "ACMm0jSuCBCU"
    },
    {
      "cell_type": "markdown",
      "source": [
        "### (1) ファインチューニング済みモデルの読み込み\n",
        "\n",
        "学習コードでファインチューニングしたモデルを読み込みます。"
      ],
      "metadata": {
        "id": "yKHZsaurCGNg"
      },
      "id": "yKHZsaurCGNg"
    },
    {
      "cell_type": "code",
      "id": "IHLfw0h1oAmZtjSv4F4xU6Di",
      "metadata": {
        "tags": [],
        "id": "IHLfw0h1oAmZtjSv4F4xU6Di",
        "colab": {
          "base_uri": "https://localhost:8080/",
          "height": 1000,
          "referenced_widgets": [
            "becf19d117214d6da111ab2722ca8cb2",
            "780dff8b518f4e95b8bf6f556aaf2dd2",
            "fa5388e241af47458e01708dd8ef26c7",
            "7cb02eb236d8416c81e9c8c8dc08d7ce",
            "f13da4b3cdb346839c2b62312b72d78c",
            "930816f1da3e464eab715e8e25f0f36e",
            "b6ab0d3155b14eaf8539f13c40e02c45",
            "63e810b8857b4966a07765cf21b3cc02",
            "7a98305b3cce44aaa5374bab1ae00047",
            "4e05854c774f42feb61ca55893b76bce",
            "df7fa46a6a6b402fb1188422dcc43fae"
          ]
        },
        "executionInfo": {
          "status": "ok",
          "timestamp": 1713167621959,
          "user_tz": -540,
          "elapsed": 40565,
          "user": {
            "displayName": "",
            "userId": ""
          }
        },
        "outputId": "8fcaf9c9-e199-4165-a5eb-4d4eebbc675e"
      },
      "source": [
        "import torch\n",
        "from transformers import AutoTokenizer, AutoModelForCausalLM\n",
        "from peft import PeftModel\n",
        "\n",
        "import warnings\n",
        "warnings.simplefilter(\"ignore\")\n",
        "\n",
        "\n",
        "# トークナイザ・モデルを読み込みます\n",
        "tokenizer = AutoTokenizer.from_pretrained(\"llm-jp/llm-jp-13b-v1.0\", use_fast=True)\n",
        "model = AutoModelForCausalLM.from_pretrained(\n",
        "    \"llm-jp/llm-jp-13b-v1.0\",\n",
        "    load_in_8bit=True, # 計算を効率化させるため、重みをint8として読み込みます\n",
        "    device_map=\"auto\"\n",
        "  )\n",
        "\n",
        "peft_model = PeftModel.from_pretrained(\n",
        "    model,\n",
        "    \"./training_logs\"\n",
        ")\n",
        "peft_model.eval()"
      ],
      "execution_count": null,
      "outputs": [
        {
          "output_type": "stream",
          "name": "stderr",
          "text": [
            "/usr/local/lib/python3.10/dist-packages/transformers/utils/generic.py:311: UserWarning: torch.utils._pytree._register_pytree_node is deprecated. Please use torch.utils._pytree.register_pytree_node instead.\n",
            "  torch.utils._pytree._register_pytree_node(\n",
            "/usr/local/lib/python3.10/dist-packages/transformers/utils/generic.py:311: UserWarning: torch.utils._pytree._register_pytree_node is deprecated. Please use torch.utils._pytree.register_pytree_node instead.\n",
            "  torch.utils._pytree._register_pytree_node(\n"
          ]
        },
        {
          "output_type": "display_data",
          "data": {
            "text/plain": [
              "Loading checkpoint shards:   0%|          | 0/3 [00:00<?, ?it/s]"
            ],
            "application/vnd.jupyter.widget-view+json": {
              "version_major": 2,
              "version_minor": 0,
              "model_id": "becf19d117214d6da111ab2722ca8cb2"
            }
          },
          "metadata": {}
        },
        {
          "output_type": "execute_result",
          "data": {
            "text/plain": [
              "PeftModelForCausalLM(\n",
              "  (base_model): LoraModel(\n",
              "    (model): GPT2LMHeadModel(\n",
              "      (transformer): GPT2Model(\n",
              "        (wte): Embedding(50688, 5120)\n",
              "        (wpe): Embedding(2048, 5120)\n",
              "        (drop): Dropout(p=0.1, inplace=False)\n",
              "        (h): ModuleList(\n",
              "          (0-39): 40 x GPT2Block(\n",
              "            (ln_1): LayerNorm((5120,), eps=1e-05, elementwise_affine=True)\n",
              "            (attn): GPT2Attention(\n",
              "              (c_attn): lora.Linear8bitLt(\n",
              "                (base_layer): Linear8bitLt(in_features=5120, out_features=15360, bias=True)\n",
              "                (lora_dropout): ModuleDict(\n",
              "                  (default): Dropout(p=0.05, inplace=False)\n",
              "                )\n",
              "                (lora_A): ModuleDict(\n",
              "                  (default): Linear(in_features=5120, out_features=8, bias=False)\n",
              "                )\n",
              "                (lora_B): ModuleDict(\n",
              "                  (default): Linear(in_features=8, out_features=15360, bias=False)\n",
              "                )\n",
              "                (lora_embedding_A): ParameterDict()\n",
              "                (lora_embedding_B): ParameterDict()\n",
              "              )\n",
              "              (c_proj): lora.Linear8bitLt(\n",
              "                (base_layer): Linear8bitLt(in_features=5120, out_features=5120, bias=True)\n",
              "                (lora_dropout): ModuleDict(\n",
              "                  (default): Dropout(p=0.05, inplace=False)\n",
              "                )\n",
              "                (lora_A): ModuleDict(\n",
              "                  (default): Linear(in_features=5120, out_features=8, bias=False)\n",
              "                )\n",
              "                (lora_B): ModuleDict(\n",
              "                  (default): Linear(in_features=8, out_features=5120, bias=False)\n",
              "                )\n",
              "                (lora_embedding_A): ParameterDict()\n",
              "                (lora_embedding_B): ParameterDict()\n",
              "              )\n",
              "              (attn_dropout): Dropout(p=0.1, inplace=False)\n",
              "              (resid_dropout): Dropout(p=0.1, inplace=False)\n",
              "            )\n",
              "            (ln_2): LayerNorm((5120,), eps=1e-05, elementwise_affine=True)\n",
              "            (mlp): GPT2MLP(\n",
              "              (c_fc): lora.Linear8bitLt(\n",
              "                (base_layer): Linear8bitLt(in_features=5120, out_features=20480, bias=True)\n",
              "                (lora_dropout): ModuleDict(\n",
              "                  (default): Dropout(p=0.05, inplace=False)\n",
              "                )\n",
              "                (lora_A): ModuleDict(\n",
              "                  (default): Linear(in_features=5120, out_features=8, bias=False)\n",
              "                )\n",
              "                (lora_B): ModuleDict(\n",
              "                  (default): Linear(in_features=8, out_features=20480, bias=False)\n",
              "                )\n",
              "                (lora_embedding_A): ParameterDict()\n",
              "                (lora_embedding_B): ParameterDict()\n",
              "              )\n",
              "              (c_proj): lora.Linear8bitLt(\n",
              "                (base_layer): Linear8bitLt(in_features=20480, out_features=5120, bias=True)\n",
              "                (lora_dropout): ModuleDict(\n",
              "                  (default): Dropout(p=0.05, inplace=False)\n",
              "                )\n",
              "                (lora_A): ModuleDict(\n",
              "                  (default): Linear(in_features=20480, out_features=8, bias=False)\n",
              "                )\n",
              "                (lora_B): ModuleDict(\n",
              "                  (default): Linear(in_features=8, out_features=5120, bias=False)\n",
              "                )\n",
              "                (lora_embedding_A): ParameterDict()\n",
              "                (lora_embedding_B): ParameterDict()\n",
              "              )\n",
              "              (act): GELUActivation()\n",
              "              (dropout): Dropout(p=0.1, inplace=False)\n",
              "            )\n",
              "          )\n",
              "        )\n",
              "        (ln_f): LayerNorm((5120,), eps=1e-05, elementwise_affine=True)\n",
              "      )\n",
              "      (lm_head): Linear(in_features=5120, out_features=50688, bias=False)\n",
              "    )\n",
              "  )\n",
              ")"
            ]
          },
          "metadata": {},
          "execution_count": 1
        }
      ]
    },
    {
      "cell_type": "code",
      "source": [
        "import pandas as pd\n",
        "from datasets import load_dataset, Dataset\n",
        "\n",
        "\n",
        "# JCommonsenseQAをダウンロードし、データフレームに変換する\n",
        "dataset_qa = load_dataset(\"shunk031/JGLUE\", name=\"JCommonsenseQA\")\n",
        "train_df_qa = dataset_qa[\"train\"].to_pandas()\n",
        "test_df_qa = dataset_qa[\"validation\"].to_pandas()\n",
        "\n",
        "# JCommonsenseQAデータセットの整備\n",
        "def preprocess_qa_df(df):\n",
        "  qa_instruction_text = \"質問と選択肢を入力として、選択肢から回答を出力してください。また、回答は選択肢から１つを選択し、番号で回答してください。数値で回答し、他の文字は含めないでください。\"\n",
        "  df[\"instruction\"] = qa_instruction_text\n",
        "  df[\"input\"] = df.apply(lambda x: f\"質問:\\n{x['question']}\\n選択肢:\\n0.{x['choice0']} 1.{x['choice1']} 2.{x['choice2']} 3.{x['choice3']} 4.{x['choice4']}\", axis=1)\n",
        "  df[\"output\"] = df[\"label\"].astype(str)\n",
        "  df = df[[\"instruction\", \"input\", \"output\"]]\n",
        "  return df\n",
        "\n",
        "train_df_qa = preprocess_qa_df(train_df_qa)\n",
        "test_df_qa = preprocess_qa_df(test_df_qa)\n",
        "\n",
        "# datasetクラスに変換する\n",
        "dataset_train = Dataset.from_pandas(train_df_qa)\n",
        "dataset_train = dataset_train.train_test_split(train_size=0.9, seed=42)\n",
        "dataset_test = Dataset.from_pandas(test_df_qa)"
      ],
      "metadata": {
        "id": "VihkIRDPvz7H"
      },
      "id": "VihkIRDPvz7H",
      "execution_count": null,
      "outputs": []
    },
    {
      "cell_type": "code",
      "source": [
        "# 推論用にデータセット前処理\n",
        "def add_text(example):\n",
        "    example[\"text\"] = f\"### 指示:\\n{example['instruction']}\\n\\n### 入力:\\n{example['input']}\\n\\n### 回答:\\n\"\n",
        "    return example\n",
        "\n",
        "# 推論パイプライン\n",
        "def generate(prompt, return_full_text=False, max_token=100):\n",
        "    input_ids = tokenizer.encode(\n",
        "        prompt,\n",
        "        add_special_tokens=False,\n",
        "        return_tensors=\"pt\"\n",
        "    ).to(device=peft_model.device)\n",
        "    output_ids = peft_model.generate(\n",
        "        input_ids=input_ids,\n",
        "        pad_token_id=tokenizer.pad_token_id,\n",
        "        max_length=max_token,\n",
        "        temperature=0,\n",
        "        num_return_sequences=1\n",
        "    )\n",
        "    if return_full_text:\n",
        "        return tokenizer.decode(output_ids.tolist()[0])\n",
        "    output = tokenizer.decode(output_ids.tolist()[0][input_ids.size(1):])\n",
        "    return output\n",
        "\n",
        "dataset_test = dataset_test.map(add_text)"
      ],
      "metadata": {
        "id": "VMfdca4aCLIW",
        "colab": {
          "base_uri": "https://localhost:8080/",
          "height": 49,
          "referenced_widgets": [
            "4e77772de73b446fb5e4ca054211d480",
            "bae68e6c5d364dcfbd0c558ade33cc9e",
            "f79be6fbad304eb3b5f2cba9375c8540",
            "91b9fd186750447483066cc3bc682df9",
            "3f30b477c3d0414981ce25a843392c3b",
            "55350d78f0134a279b6c15237fdbe1f4",
            "db857af351874611aa464d096fa41041",
            "3cd182e1a3a448d4b429745c64276017",
            "37e579e78bd64294a701f79d967aea2c",
            "f31e70998b7f437ab3a37714c7405473",
            "4fed717d086f43daa45091c5530f9e96"
          ]
        },
        "executionInfo": {
          "status": "ok",
          "timestamp": 1713167624800,
          "user_tz": -540,
          "elapsed": 32,
          "user": {
            "displayName": "",
            "userId": ""
          }
        },
        "outputId": "c09c93d8-7cbe-4ef5-914a-cbee72d1b684"
      },
      "id": "VMfdca4aCLIW",
      "execution_count": null,
      "outputs": [
        {
          "output_type": "display_data",
          "data": {
            "text/plain": [
              "Map:   0%|          | 0/1119 [00:00<?, ? examples/s]"
            ],
            "application/vnd.jupyter.widget-view+json": {
              "version_major": 2,
              "version_minor": 0,
              "model_id": "4e77772de73b446fb5e4ca054211d480"
            }
          },
          "metadata": {}
        }
      ]
    },
    {
      "cell_type": "markdown",
      "source": [
        "### (2) 精度評価"
      ],
      "metadata": {
        "id": "JNRfCzNpCNRn"
      },
      "id": "JNRfCzNpCNRn"
    },
    {
      "cell_type": "code",
      "source": [
        "import numpy as np\n",
        "from tqdm import tqdm\n",
        "from sklearn.metrics import accuracy_score\n",
        "\n",
        "\n",
        "def predict(prompt):\n",
        "    answer = generate(prompt, False)\n",
        "    try:\n",
        "      return int(answer[0])\n",
        "    except ValueError:\n",
        "      return -1"
      ],
      "metadata": {
        "id": "O6Bd_xybCOKx"
      },
      "id": "O6Bd_xybCOKx",
      "execution_count": null,
      "outputs": []
    },
    {
      "cell_type": "code",
      "source": [
        "y_preds = []\n",
        "for i in tqdm(range(len(dataset_test))):\n",
        "    y_preds.append(predict(dataset_test[\"text\"][i]))\n",
        "\n",
        "y_true = dataset_test[\"output\"]\n",
        "y_true = [int(i) for i in y_true]\n",
        "\n",
        "y_preds = np.array(y_preds)\n",
        "y_true = np.array(y_true)\n",
        "\n",
        "print(f\"accuracy : {accuracy_score(y_true, y_preds):.3f}\")"
      ],
      "metadata": {
        "id": "Pwn0TXxPCP38",
        "colab": {
          "base_uri": "https://localhost:8080/"
        },
        "executionInfo": {
          "status": "ok",
          "timestamp": 1713167919122,
          "user_tz": -540,
          "elapsed": 294352,
          "user": {
            "displayName": "",
            "userId": ""
          }
        },
        "outputId": "13d92341-c6f3-42af-ef0a-6d764fb4ef1b"
      },
      "id": "Pwn0TXxPCP38",
      "execution_count": null,
      "outputs": [
        {
          "output_type": "stream",
          "name": "stderr",
          "text": [
            "100%|██████████| 1119/1119 [04:54<00:00,  3.80it/s]"
          ]
        },
        {
          "output_type": "stream",
          "name": "stdout",
          "text": [
            "accuracy : 0.868\n"
          ]
        },
        {
          "output_type": "stream",
          "name": "stderr",
          "text": [
            "\n"
          ]
        }
      ]
    },
    {
      "cell_type": "markdown",
      "source": [
        "## 応用レシピ"
      ],
      "metadata": {
        "id": "eZ8BanadCR7E"
      },
      "id": "eZ8BanadCR7E"
    },
    {
      "cell_type": "markdown",
      "source": [
        "### (1) 類似文章生成\n",
        "\n",
        "学習したモデルに対して、学習したデータと類似する文章を生成させます。"
      ],
      "metadata": {
        "id": "9W_PBtcwCUJG"
      },
      "id": "9W_PBtcwCUJG"
    },
    {
      "cell_type": "code",
      "source": [
        "prompt = \"\"\"\n",
        "### 指示:\n",
        "質問と選択肢を入力として、選択肢から回答を出力してください。また、回答は選択肢から１つを選択し、番号で回答してください。数値で回答し、他の文字は含めないでください。\n",
        "\n",
        "### 入力:\n",
        "質問:\n",
        "日本一高い山は？\n",
        "選択肢:\n",
        "\"\"\"\n",
        "\n",
        "print(generate(prompt, True, 256))"
      ],
      "metadata": {
        "id": "aXn5ZZ0jCTpU",
        "colab": {
          "base_uri": "https://localhost:8080/"
        },
        "executionInfo": {
          "status": "ok",
          "timestamp": 1713167926728,
          "user_tz": -540,
          "elapsed": 7608,
          "user": {
            "displayName": "",
            "userId": ""
          }
        },
        "outputId": "296dffcb-3ca3-4ee2-f8b0-1915dab6fb78"
      },
      "id": "aXn5ZZ0jCTpU",
      "execution_count": null,
      "outputs": [
        {
          "output_type": "stream",
          "name": "stdout",
          "text": [
            "\n",
            "### 指示:\n",
            "質問と選択肢を入力として、選択肢から回答を出力してください。また、回答は選択肢から１つを選択し、番号で回答してください。数値で回答し、他の文字は含めないでください。\n",
            "\n",
            "### 入力:\n",
            "質問:\n",
            "日本一高い山は？\n",
            "選択肢:\n",
            "0.富士山 1.東京タワー 2.京都タワー 3.大阪城 4.スカイツリー\n",
            "\n",
            "### 回答:\n",
            "0<EOD|LLM-jp>\n"
          ]
        }
      ]
    },
    {
      "cell_type": "code",
      "source": [
        "prompt = \"\"\"\n",
        "### 指示:\n",
        "質問と選択肢を入力として、選択肢から回答を出力してください。また、回答は選択肢から１つを選択し、番号で回答してください。数値で回答し、他の文字は含めないでください。\n",
        "\n",
        "### 入力:\n",
        "質問:\n",
        "パソコンを操作するときに扱うものは？\n",
        "選択肢:\n",
        "\"\"\"\n",
        "\n",
        "print(generate(prompt, True, 256))"
      ],
      "metadata": {
        "id": "t2LspfgkCYo0",
        "colab": {
          "base_uri": "https://localhost:8080/"
        },
        "executionInfo": {
          "status": "ok",
          "timestamp": 1713167934633,
          "user_tz": -540,
          "elapsed": 7906,
          "user": {
            "displayName": "",
            "userId": ""
          }
        },
        "outputId": "845c6fd3-9b36-42aa-e5cb-fdabd3c472b3"
      },
      "id": "t2LspfgkCYo0",
      "execution_count": null,
      "outputs": [
        {
          "output_type": "stream",
          "name": "stdout",
          "text": [
            "\n",
            "### 指示:\n",
            "質問と選択肢を入力として、選択肢から回答を出力してください。また、回答は選択肢から１つを選択し、番号で回答してください。数値で回答し、他の文字は含めないでください。\n",
            "\n",
            "### 入力:\n",
            "質問:\n",
            "パソコンを操作するときに扱うものは？\n",
            "選択肢:\n",
            "0.マウス 1.キーボード 2.マウスパッド 3.マウスウォッシュ 4.マウスコンピューター\n",
            "\n",
            "### 回答:\n",
            "1<EOD|LLM-jp>\n"
          ]
        }
      ]
    },
    {
      "cell_type": "code",
      "source": [
        "prompt = \"\"\"\n",
        "### 指示:\n",
        "質問と選択肢を入力として、選択肢から回答を出力してください。また、回答は選択肢から１つを選択し、番号で回答してください。数値で回答し、他の文字は含めないでください。\n",
        "\n",
        "### 入力:\n",
        "質問:\n",
        "夏の七草といえば？\n",
        "選択肢:\n",
        "\"\"\"\n",
        "\n",
        "print(generate(prompt, True, 256))"
      ],
      "metadata": {
        "id": "eSe6tL70CZ5K",
        "colab": {
          "base_uri": "https://localhost:8080/"
        },
        "executionInfo": {
          "status": "ok",
          "timestamp": 1713167943792,
          "user_tz": -540,
          "elapsed": 9171,
          "user": {
            "displayName": "",
            "userId": ""
          }
        },
        "outputId": "cb2984e7-176b-4181-8eb8-d284aef32b72"
      },
      "id": "eSe6tL70CZ5K",
      "execution_count": null,
      "outputs": [
        {
          "output_type": "stream",
          "name": "stdout",
          "text": [
            "\n",
            "### 指示:\n",
            "質問と選択肢を入力として、選択肢から回答を出力してください。また、回答は選択肢から１つを選択し、番号で回答してください。数値で回答し、他の文字は含めないでください。\n",
            "\n",
            "### 入力:\n",
            "質問:\n",
            "夏の七草といえば？\n",
            "選択肢:\n",
            "0.すずしろ 1.すずめ 2.すずめの涙 3.すずめの巣 4.すずめの涙の涙\n",
            "\n",
            "### 回答:\n",
            "0<EOD|LLM-jp>\n"
          ]
        }
      ]
    },
    {
      "cell_type": "code",
      "source": [],
      "metadata": {
        "id": "XYyIubjXvtbk"
      },
      "id": "XYyIubjXvtbk",
      "execution_count": null,
      "outputs": []
    }
  ],
  "metadata": {
    "kernelspec": {
      "display_name": "Python 3",
      "language": "python",
      "name": "python3"
    },
    "language_info": {
      "codemirror_mode": {
        "name": "ipython",
        "version": 3
      },
      "file_extension": ".py",
      "mimetype": "text/x-python",
      "name": "python",
      "nbconvert_exporter": "python",
      "pygments_lexer": "ipython3",
      "version": "3.10.10"
    },
    "colab": {
      "provenance": [],
      "name": "2-2_LoRA.ipynb",
      "toc_visible": true
    },
    "widgets": {
      "application/vnd.jupyter.widget-state+json": {
        "becf19d117214d6da111ab2722ca8cb2": {
          "model_module": "@jupyter-widgets/controls",
          "model_name": "HBoxModel",
          "model_module_version": "1.5.0",
          "state": {
            "_dom_classes": [],
            "_model_module": "@jupyter-widgets/controls",
            "_model_module_version": "1.5.0",
            "_model_name": "HBoxModel",
            "_view_count": null,
            "_view_module": "@jupyter-widgets/controls",
            "_view_module_version": "1.5.0",
            "_view_name": "HBoxView",
            "box_style": "",
            "children": [
              "IPY_MODEL_780dff8b518f4e95b8bf6f556aaf2dd2",
              "IPY_MODEL_fa5388e241af47458e01708dd8ef26c7",
              "IPY_MODEL_7cb02eb236d8416c81e9c8c8dc08d7ce"
            ],
            "layout": "IPY_MODEL_f13da4b3cdb346839c2b62312b72d78c"
          }
        },
        "780dff8b518f4e95b8bf6f556aaf2dd2": {
          "model_module": "@jupyter-widgets/controls",
          "model_name": "HTMLModel",
          "model_module_version": "1.5.0",
          "state": {
            "_dom_classes": [],
            "_model_module": "@jupyter-widgets/controls",
            "_model_module_version": "1.5.0",
            "_model_name": "HTMLModel",
            "_view_count": null,
            "_view_module": "@jupyter-widgets/controls",
            "_view_module_version": "1.5.0",
            "_view_name": "HTMLView",
            "description": "",
            "description_tooltip": null,
            "layout": "IPY_MODEL_930816f1da3e464eab715e8e25f0f36e",
            "placeholder": "​",
            "style": "IPY_MODEL_b6ab0d3155b14eaf8539f13c40e02c45",
            "value": "Loading checkpoint shards: 100%"
          }
        },
        "fa5388e241af47458e01708dd8ef26c7": {
          "model_module": "@jupyter-widgets/controls",
          "model_name": "FloatProgressModel",
          "model_module_version": "1.5.0",
          "state": {
            "_dom_classes": [],
            "_model_module": "@jupyter-widgets/controls",
            "_model_module_version": "1.5.0",
            "_model_name": "FloatProgressModel",
            "_view_count": null,
            "_view_module": "@jupyter-widgets/controls",
            "_view_module_version": "1.5.0",
            "_view_name": "ProgressView",
            "bar_style": "success",
            "description": "",
            "description_tooltip": null,
            "layout": "IPY_MODEL_63e810b8857b4966a07765cf21b3cc02",
            "max": 3,
            "min": 0,
            "orientation": "horizontal",
            "style": "IPY_MODEL_7a98305b3cce44aaa5374bab1ae00047",
            "value": 3
          }
        },
        "7cb02eb236d8416c81e9c8c8dc08d7ce": {
          "model_module": "@jupyter-widgets/controls",
          "model_name": "HTMLModel",
          "model_module_version": "1.5.0",
          "state": {
            "_dom_classes": [],
            "_model_module": "@jupyter-widgets/controls",
            "_model_module_version": "1.5.0",
            "_model_name": "HTMLModel",
            "_view_count": null,
            "_view_module": "@jupyter-widgets/controls",
            "_view_module_version": "1.5.0",
            "_view_name": "HTMLView",
            "description": "",
            "description_tooltip": null,
            "layout": "IPY_MODEL_4e05854c774f42feb61ca55893b76bce",
            "placeholder": "​",
            "style": "IPY_MODEL_df7fa46a6a6b402fb1188422dcc43fae",
            "value": " 3/3 [00:33&lt;00:00, 10.46s/it]"
          }
        },
        "f13da4b3cdb346839c2b62312b72d78c": {
          "model_module": "@jupyter-widgets/base",
          "model_name": "LayoutModel",
          "model_module_version": "1.2.0",
          "state": {
            "_model_module": "@jupyter-widgets/base",
            "_model_module_version": "1.2.0",
            "_model_name": "LayoutModel",
            "_view_count": null,
            "_view_module": "@jupyter-widgets/base",
            "_view_module_version": "1.2.0",
            "_view_name": "LayoutView",
            "align_content": null,
            "align_items": null,
            "align_self": null,
            "border": null,
            "bottom": null,
            "display": null,
            "flex": null,
            "flex_flow": null,
            "grid_area": null,
            "grid_auto_columns": null,
            "grid_auto_flow": null,
            "grid_auto_rows": null,
            "grid_column": null,
            "grid_gap": null,
            "grid_row": null,
            "grid_template_areas": null,
            "grid_template_columns": null,
            "grid_template_rows": null,
            "height": null,
            "justify_content": null,
            "justify_items": null,
            "left": null,
            "margin": null,
            "max_height": null,
            "max_width": null,
            "min_height": null,
            "min_width": null,
            "object_fit": null,
            "object_position": null,
            "order": null,
            "overflow": null,
            "overflow_x": null,
            "overflow_y": null,
            "padding": null,
            "right": null,
            "top": null,
            "visibility": null,
            "width": null
          }
        },
        "930816f1da3e464eab715e8e25f0f36e": {
          "model_module": "@jupyter-widgets/base",
          "model_name": "LayoutModel",
          "model_module_version": "1.2.0",
          "state": {
            "_model_module": "@jupyter-widgets/base",
            "_model_module_version": "1.2.0",
            "_model_name": "LayoutModel",
            "_view_count": null,
            "_view_module": "@jupyter-widgets/base",
            "_view_module_version": "1.2.0",
            "_view_name": "LayoutView",
            "align_content": null,
            "align_items": null,
            "align_self": null,
            "border": null,
            "bottom": null,
            "display": null,
            "flex": null,
            "flex_flow": null,
            "grid_area": null,
            "grid_auto_columns": null,
            "grid_auto_flow": null,
            "grid_auto_rows": null,
            "grid_column": null,
            "grid_gap": null,
            "grid_row": null,
            "grid_template_areas": null,
            "grid_template_columns": null,
            "grid_template_rows": null,
            "height": null,
            "justify_content": null,
            "justify_items": null,
            "left": null,
            "margin": null,
            "max_height": null,
            "max_width": null,
            "min_height": null,
            "min_width": null,
            "object_fit": null,
            "object_position": null,
            "order": null,
            "overflow": null,
            "overflow_x": null,
            "overflow_y": null,
            "padding": null,
            "right": null,
            "top": null,
            "visibility": null,
            "width": null
          }
        },
        "b6ab0d3155b14eaf8539f13c40e02c45": {
          "model_module": "@jupyter-widgets/controls",
          "model_name": "DescriptionStyleModel",
          "model_module_version": "1.5.0",
          "state": {
            "_model_module": "@jupyter-widgets/controls",
            "_model_module_version": "1.5.0",
            "_model_name": "DescriptionStyleModel",
            "_view_count": null,
            "_view_module": "@jupyter-widgets/base",
            "_view_module_version": "1.2.0",
            "_view_name": "StyleView",
            "description_width": ""
          }
        },
        "63e810b8857b4966a07765cf21b3cc02": {
          "model_module": "@jupyter-widgets/base",
          "model_name": "LayoutModel",
          "model_module_version": "1.2.0",
          "state": {
            "_model_module": "@jupyter-widgets/base",
            "_model_module_version": "1.2.0",
            "_model_name": "LayoutModel",
            "_view_count": null,
            "_view_module": "@jupyter-widgets/base",
            "_view_module_version": "1.2.0",
            "_view_name": "LayoutView",
            "align_content": null,
            "align_items": null,
            "align_self": null,
            "border": null,
            "bottom": null,
            "display": null,
            "flex": null,
            "flex_flow": null,
            "grid_area": null,
            "grid_auto_columns": null,
            "grid_auto_flow": null,
            "grid_auto_rows": null,
            "grid_column": null,
            "grid_gap": null,
            "grid_row": null,
            "grid_template_areas": null,
            "grid_template_columns": null,
            "grid_template_rows": null,
            "height": null,
            "justify_content": null,
            "justify_items": null,
            "left": null,
            "margin": null,
            "max_height": null,
            "max_width": null,
            "min_height": null,
            "min_width": null,
            "object_fit": null,
            "object_position": null,
            "order": null,
            "overflow": null,
            "overflow_x": null,
            "overflow_y": null,
            "padding": null,
            "right": null,
            "top": null,
            "visibility": null,
            "width": null
          }
        },
        "7a98305b3cce44aaa5374bab1ae00047": {
          "model_module": "@jupyter-widgets/controls",
          "model_name": "ProgressStyleModel",
          "model_module_version": "1.5.0",
          "state": {
            "_model_module": "@jupyter-widgets/controls",
            "_model_module_version": "1.5.0",
            "_model_name": "ProgressStyleModel",
            "_view_count": null,
            "_view_module": "@jupyter-widgets/base",
            "_view_module_version": "1.2.0",
            "_view_name": "StyleView",
            "bar_color": null,
            "description_width": ""
          }
        },
        "4e05854c774f42feb61ca55893b76bce": {
          "model_module": "@jupyter-widgets/base",
          "model_name": "LayoutModel",
          "model_module_version": "1.2.0",
          "state": {
            "_model_module": "@jupyter-widgets/base",
            "_model_module_version": "1.2.0",
            "_model_name": "LayoutModel",
            "_view_count": null,
            "_view_module": "@jupyter-widgets/base",
            "_view_module_version": "1.2.0",
            "_view_name": "LayoutView",
            "align_content": null,
            "align_items": null,
            "align_self": null,
            "border": null,
            "bottom": null,
            "display": null,
            "flex": null,
            "flex_flow": null,
            "grid_area": null,
            "grid_auto_columns": null,
            "grid_auto_flow": null,
            "grid_auto_rows": null,
            "grid_column": null,
            "grid_gap": null,
            "grid_row": null,
            "grid_template_areas": null,
            "grid_template_columns": null,
            "grid_template_rows": null,
            "height": null,
            "justify_content": null,
            "justify_items": null,
            "left": null,
            "margin": null,
            "max_height": null,
            "max_width": null,
            "min_height": null,
            "min_width": null,
            "object_fit": null,
            "object_position": null,
            "order": null,
            "overflow": null,
            "overflow_x": null,
            "overflow_y": null,
            "padding": null,
            "right": null,
            "top": null,
            "visibility": null,
            "width": null
          }
        },
        "df7fa46a6a6b402fb1188422dcc43fae": {
          "model_module": "@jupyter-widgets/controls",
          "model_name": "DescriptionStyleModel",
          "model_module_version": "1.5.0",
          "state": {
            "_model_module": "@jupyter-widgets/controls",
            "_model_module_version": "1.5.0",
            "_model_name": "DescriptionStyleModel",
            "_view_count": null,
            "_view_module": "@jupyter-widgets/base",
            "_view_module_version": "1.2.0",
            "_view_name": "StyleView",
            "description_width": ""
          }
        },
        "4e77772de73b446fb5e4ca054211d480": {
          "model_module": "@jupyter-widgets/controls",
          "model_name": "HBoxModel",
          "model_module_version": "1.5.0",
          "state": {
            "_dom_classes": [],
            "_model_module": "@jupyter-widgets/controls",
            "_model_module_version": "1.5.0",
            "_model_name": "HBoxModel",
            "_view_count": null,
            "_view_module": "@jupyter-widgets/controls",
            "_view_module_version": "1.5.0",
            "_view_name": "HBoxView",
            "box_style": "",
            "children": [
              "IPY_MODEL_bae68e6c5d364dcfbd0c558ade33cc9e",
              "IPY_MODEL_f79be6fbad304eb3b5f2cba9375c8540",
              "IPY_MODEL_91b9fd186750447483066cc3bc682df9"
            ],
            "layout": "IPY_MODEL_3f30b477c3d0414981ce25a843392c3b"
          }
        },
        "bae68e6c5d364dcfbd0c558ade33cc9e": {
          "model_module": "@jupyter-widgets/controls",
          "model_name": "HTMLModel",
          "model_module_version": "1.5.0",
          "state": {
            "_dom_classes": [],
            "_model_module": "@jupyter-widgets/controls",
            "_model_module_version": "1.5.0",
            "_model_name": "HTMLModel",
            "_view_count": null,
            "_view_module": "@jupyter-widgets/controls",
            "_view_module_version": "1.5.0",
            "_view_name": "HTMLView",
            "description": "",
            "description_tooltip": null,
            "layout": "IPY_MODEL_55350d78f0134a279b6c15237fdbe1f4",
            "placeholder": "​",
            "style": "IPY_MODEL_db857af351874611aa464d096fa41041",
            "value": "Map: 100%"
          }
        },
        "f79be6fbad304eb3b5f2cba9375c8540": {
          "model_module": "@jupyter-widgets/controls",
          "model_name": "FloatProgressModel",
          "model_module_version": "1.5.0",
          "state": {
            "_dom_classes": [],
            "_model_module": "@jupyter-widgets/controls",
            "_model_module_version": "1.5.0",
            "_model_name": "FloatProgressModel",
            "_view_count": null,
            "_view_module": "@jupyter-widgets/controls",
            "_view_module_version": "1.5.0",
            "_view_name": "ProgressView",
            "bar_style": "success",
            "description": "",
            "description_tooltip": null,
            "layout": "IPY_MODEL_3cd182e1a3a448d4b429745c64276017",
            "max": 1119,
            "min": 0,
            "orientation": "horizontal",
            "style": "IPY_MODEL_37e579e78bd64294a701f79d967aea2c",
            "value": 1119
          }
        },
        "91b9fd186750447483066cc3bc682df9": {
          "model_module": "@jupyter-widgets/controls",
          "model_name": "HTMLModel",
          "model_module_version": "1.5.0",
          "state": {
            "_dom_classes": [],
            "_model_module": "@jupyter-widgets/controls",
            "_model_module_version": "1.5.0",
            "_model_name": "HTMLModel",
            "_view_count": null,
            "_view_module": "@jupyter-widgets/controls",
            "_view_module_version": "1.5.0",
            "_view_name": "HTMLView",
            "description": "",
            "description_tooltip": null,
            "layout": "IPY_MODEL_f31e70998b7f437ab3a37714c7405473",
            "placeholder": "​",
            "style": "IPY_MODEL_4fed717d086f43daa45091c5530f9e96",
            "value": " 1119/1119 [00:00&lt;00:00, 10290.73 examples/s]"
          }
        },
        "3f30b477c3d0414981ce25a843392c3b": {
          "model_module": "@jupyter-widgets/base",
          "model_name": "LayoutModel",
          "model_module_version": "1.2.0",
          "state": {
            "_model_module": "@jupyter-widgets/base",
            "_model_module_version": "1.2.0",
            "_model_name": "LayoutModel",
            "_view_count": null,
            "_view_module": "@jupyter-widgets/base",
            "_view_module_version": "1.2.0",
            "_view_name": "LayoutView",
            "align_content": null,
            "align_items": null,
            "align_self": null,
            "border": null,
            "bottom": null,
            "display": null,
            "flex": null,
            "flex_flow": null,
            "grid_area": null,
            "grid_auto_columns": null,
            "grid_auto_flow": null,
            "grid_auto_rows": null,
            "grid_column": null,
            "grid_gap": null,
            "grid_row": null,
            "grid_template_areas": null,
            "grid_template_columns": null,
            "grid_template_rows": null,
            "height": null,
            "justify_content": null,
            "justify_items": null,
            "left": null,
            "margin": null,
            "max_height": null,
            "max_width": null,
            "min_height": null,
            "min_width": null,
            "object_fit": null,
            "object_position": null,
            "order": null,
            "overflow": null,
            "overflow_x": null,
            "overflow_y": null,
            "padding": null,
            "right": null,
            "top": null,
            "visibility": null,
            "width": null
          }
        },
        "55350d78f0134a279b6c15237fdbe1f4": {
          "model_module": "@jupyter-widgets/base",
          "model_name": "LayoutModel",
          "model_module_version": "1.2.0",
          "state": {
            "_model_module": "@jupyter-widgets/base",
            "_model_module_version": "1.2.0",
            "_model_name": "LayoutModel",
            "_view_count": null,
            "_view_module": "@jupyter-widgets/base",
            "_view_module_version": "1.2.0",
            "_view_name": "LayoutView",
            "align_content": null,
            "align_items": null,
            "align_self": null,
            "border": null,
            "bottom": null,
            "display": null,
            "flex": null,
            "flex_flow": null,
            "grid_area": null,
            "grid_auto_columns": null,
            "grid_auto_flow": null,
            "grid_auto_rows": null,
            "grid_column": null,
            "grid_gap": null,
            "grid_row": null,
            "grid_template_areas": null,
            "grid_template_columns": null,
            "grid_template_rows": null,
            "height": null,
            "justify_content": null,
            "justify_items": null,
            "left": null,
            "margin": null,
            "max_height": null,
            "max_width": null,
            "min_height": null,
            "min_width": null,
            "object_fit": null,
            "object_position": null,
            "order": null,
            "overflow": null,
            "overflow_x": null,
            "overflow_y": null,
            "padding": null,
            "right": null,
            "top": null,
            "visibility": null,
            "width": null
          }
        },
        "db857af351874611aa464d096fa41041": {
          "model_module": "@jupyter-widgets/controls",
          "model_name": "DescriptionStyleModel",
          "model_module_version": "1.5.0",
          "state": {
            "_model_module": "@jupyter-widgets/controls",
            "_model_module_version": "1.5.0",
            "_model_name": "DescriptionStyleModel",
            "_view_count": null,
            "_view_module": "@jupyter-widgets/base",
            "_view_module_version": "1.2.0",
            "_view_name": "StyleView",
            "description_width": ""
          }
        },
        "3cd182e1a3a448d4b429745c64276017": {
          "model_module": "@jupyter-widgets/base",
          "model_name": "LayoutModel",
          "model_module_version": "1.2.0",
          "state": {
            "_model_module": "@jupyter-widgets/base",
            "_model_module_version": "1.2.0",
            "_model_name": "LayoutModel",
            "_view_count": null,
            "_view_module": "@jupyter-widgets/base",
            "_view_module_version": "1.2.0",
            "_view_name": "LayoutView",
            "align_content": null,
            "align_items": null,
            "align_self": null,
            "border": null,
            "bottom": null,
            "display": null,
            "flex": null,
            "flex_flow": null,
            "grid_area": null,
            "grid_auto_columns": null,
            "grid_auto_flow": null,
            "grid_auto_rows": null,
            "grid_column": null,
            "grid_gap": null,
            "grid_row": null,
            "grid_template_areas": null,
            "grid_template_columns": null,
            "grid_template_rows": null,
            "height": null,
            "justify_content": null,
            "justify_items": null,
            "left": null,
            "margin": null,
            "max_height": null,
            "max_width": null,
            "min_height": null,
            "min_width": null,
            "object_fit": null,
            "object_position": null,
            "order": null,
            "overflow": null,
            "overflow_x": null,
            "overflow_y": null,
            "padding": null,
            "right": null,
            "top": null,
            "visibility": null,
            "width": null
          }
        },
        "37e579e78bd64294a701f79d967aea2c": {
          "model_module": "@jupyter-widgets/controls",
          "model_name": "ProgressStyleModel",
          "model_module_version": "1.5.0",
          "state": {
            "_model_module": "@jupyter-widgets/controls",
            "_model_module_version": "1.5.0",
            "_model_name": "ProgressStyleModel",
            "_view_count": null,
            "_view_module": "@jupyter-widgets/base",
            "_view_module_version": "1.2.0",
            "_view_name": "StyleView",
            "bar_color": null,
            "description_width": ""
          }
        },
        "f31e70998b7f437ab3a37714c7405473": {
          "model_module": "@jupyter-widgets/base",
          "model_name": "LayoutModel",
          "model_module_version": "1.2.0",
          "state": {
            "_model_module": "@jupyter-widgets/base",
            "_model_module_version": "1.2.0",
            "_model_name": "LayoutModel",
            "_view_count": null,
            "_view_module": "@jupyter-widgets/base",
            "_view_module_version": "1.2.0",
            "_view_name": "LayoutView",
            "align_content": null,
            "align_items": null,
            "align_self": null,
            "border": null,
            "bottom": null,
            "display": null,
            "flex": null,
            "flex_flow": null,
            "grid_area": null,
            "grid_auto_columns": null,
            "grid_auto_flow": null,
            "grid_auto_rows": null,
            "grid_column": null,
            "grid_gap": null,
            "grid_row": null,
            "grid_template_areas": null,
            "grid_template_columns": null,
            "grid_template_rows": null,
            "height": null,
            "justify_content": null,
            "justify_items": null,
            "left": null,
            "margin": null,
            "max_height": null,
            "max_width": null,
            "min_height": null,
            "min_width": null,
            "object_fit": null,
            "object_position": null,
            "order": null,
            "overflow": null,
            "overflow_x": null,
            "overflow_y": null,
            "padding": null,
            "right": null,
            "top": null,
            "visibility": null,
            "width": null
          }
        },
        "4fed717d086f43daa45091c5530f9e96": {
          "model_module": "@jupyter-widgets/controls",
          "model_name": "DescriptionStyleModel",
          "model_module_version": "1.5.0",
          "state": {
            "_model_module": "@jupyter-widgets/controls",
            "_model_module_version": "1.5.0",
            "_model_name": "DescriptionStyleModel",
            "_view_count": null,
            "_view_module": "@jupyter-widgets/base",
            "_view_module_version": "1.2.0",
            "_view_name": "StyleView",
            "description_width": ""
          }
        }
      }
    }
  },
  "nbformat": 4,
  "nbformat_minor": 5
}