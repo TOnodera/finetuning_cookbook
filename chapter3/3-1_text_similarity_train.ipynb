{
  "nbformat": 4,
  "nbformat_minor": 0,
  "metadata": {
    "colab": {
      "provenance": [],
      "gpuType": "T4"
    },
    "kernelspec": {
      "name": "python3",
      "display_name": "Python 3"
    },
    "language_info": {
      "name": "python"
    },
    "accelerator": "GPU",
    "widgets": {
      "application/vnd.jupyter.widget-state+json": {
        "448ae78058e444a6a1fc5e38ce8e511a": {
          "model_module": "@jupyter-widgets/controls",
          "model_name": "HBoxModel",
          "model_module_version": "1.5.0",
          "state": {
            "_dom_classes": [],
            "_model_module": "@jupyter-widgets/controls",
            "_model_module_version": "1.5.0",
            "_model_name": "HBoxModel",
            "_view_count": null,
            "_view_module": "@jupyter-widgets/controls",
            "_view_module_version": "1.5.0",
            "_view_name": "HBoxView",
            "box_style": "",
            "children": [
              "IPY_MODEL_70d08718ec11495f9268dc25bffbf302",
              "IPY_MODEL_e626470d03704924b5c55d05dea49069",
              "IPY_MODEL_8bbd3c13acaa46fd906b746eb7de1c88"
            ],
            "layout": "IPY_MODEL_576a7e4b0fa2422497806cc94d9e9218"
          }
        },
        "70d08718ec11495f9268dc25bffbf302": {
          "model_module": "@jupyter-widgets/controls",
          "model_name": "HTMLModel",
          "model_module_version": "1.5.0",
          "state": {
            "_dom_classes": [],
            "_model_module": "@jupyter-widgets/controls",
            "_model_module_version": "1.5.0",
            "_model_name": "HTMLModel",
            "_view_count": null,
            "_view_module": "@jupyter-widgets/controls",
            "_view_module_version": "1.5.0",
            "_view_name": "HTMLView",
            "description": "",
            "description_tooltip": null,
            "layout": "IPY_MODEL_bee1f019d06241bc9f5094279fcb5db8",
            "placeholder": "​",
            "style": "IPY_MODEL_8d5ce5d505e24a2a87948cc6e5031f85",
            "value": "Map: 100%"
          }
        },
        "e626470d03704924b5c55d05dea49069": {
          "model_module": "@jupyter-widgets/controls",
          "model_name": "FloatProgressModel",
          "model_module_version": "1.5.0",
          "state": {
            "_dom_classes": [],
            "_model_module": "@jupyter-widgets/controls",
            "_model_module_version": "1.5.0",
            "_model_name": "FloatProgressModel",
            "_view_count": null,
            "_view_module": "@jupyter-widgets/controls",
            "_view_module_version": "1.5.0",
            "_view_name": "ProgressView",
            "bar_style": "success",
            "description": "",
            "description_tooltip": null,
            "layout": "IPY_MODEL_70077e86246340f4966c647a0df9d41e",
            "max": 12451,
            "min": 0,
            "orientation": "horizontal",
            "style": "IPY_MODEL_a2c36afb28dc476286fab8b740df40e1",
            "value": 12451
          }
        },
        "8bbd3c13acaa46fd906b746eb7de1c88": {
          "model_module": "@jupyter-widgets/controls",
          "model_name": "HTMLModel",
          "model_module_version": "1.5.0",
          "state": {
            "_dom_classes": [],
            "_model_module": "@jupyter-widgets/controls",
            "_model_module_version": "1.5.0",
            "_model_name": "HTMLModel",
            "_view_count": null,
            "_view_module": "@jupyter-widgets/controls",
            "_view_module_version": "1.5.0",
            "_view_name": "HTMLView",
            "description": "",
            "description_tooltip": null,
            "layout": "IPY_MODEL_b47afa3001ca4ad4971564c63ed5f6ed",
            "placeholder": "​",
            "style": "IPY_MODEL_4ffd70ece7914a1dadadbb34e1c2d9fa",
            "value": " 12451/12451 [00:14&lt;00:00, 932.67 examples/s]"
          }
        },
        "576a7e4b0fa2422497806cc94d9e9218": {
          "model_module": "@jupyter-widgets/base",
          "model_name": "LayoutModel",
          "model_module_version": "1.2.0",
          "state": {
            "_model_module": "@jupyter-widgets/base",
            "_model_module_version": "1.2.0",
            "_model_name": "LayoutModel",
            "_view_count": null,
            "_view_module": "@jupyter-widgets/base",
            "_view_module_version": "1.2.0",
            "_view_name": "LayoutView",
            "align_content": null,
            "align_items": null,
            "align_self": null,
            "border": null,
            "bottom": null,
            "display": null,
            "flex": null,
            "flex_flow": null,
            "grid_area": null,
            "grid_auto_columns": null,
            "grid_auto_flow": null,
            "grid_auto_rows": null,
            "grid_column": null,
            "grid_gap": null,
            "grid_row": null,
            "grid_template_areas": null,
            "grid_template_columns": null,
            "grid_template_rows": null,
            "height": null,
            "justify_content": null,
            "justify_items": null,
            "left": null,
            "margin": null,
            "max_height": null,
            "max_width": null,
            "min_height": null,
            "min_width": null,
            "object_fit": null,
            "object_position": null,
            "order": null,
            "overflow": null,
            "overflow_x": null,
            "overflow_y": null,
            "padding": null,
            "right": null,
            "top": null,
            "visibility": null,
            "width": null
          }
        },
        "bee1f019d06241bc9f5094279fcb5db8": {
          "model_module": "@jupyter-widgets/base",
          "model_name": "LayoutModel",
          "model_module_version": "1.2.0",
          "state": {
            "_model_module": "@jupyter-widgets/base",
            "_model_module_version": "1.2.0",
            "_model_name": "LayoutModel",
            "_view_count": null,
            "_view_module": "@jupyter-widgets/base",
            "_view_module_version": "1.2.0",
            "_view_name": "LayoutView",
            "align_content": null,
            "align_items": null,
            "align_self": null,
            "border": null,
            "bottom": null,
            "display": null,
            "flex": null,
            "flex_flow": null,
            "grid_area": null,
            "grid_auto_columns": null,
            "grid_auto_flow": null,
            "grid_auto_rows": null,
            "grid_column": null,
            "grid_gap": null,
            "grid_row": null,
            "grid_template_areas": null,
            "grid_template_columns": null,
            "grid_template_rows": null,
            "height": null,
            "justify_content": null,
            "justify_items": null,
            "left": null,
            "margin": null,
            "max_height": null,
            "max_width": null,
            "min_height": null,
            "min_width": null,
            "object_fit": null,
            "object_position": null,
            "order": null,
            "overflow": null,
            "overflow_x": null,
            "overflow_y": null,
            "padding": null,
            "right": null,
            "top": null,
            "visibility": null,
            "width": null
          }
        },
        "8d5ce5d505e24a2a87948cc6e5031f85": {
          "model_module": "@jupyter-widgets/controls",
          "model_name": "DescriptionStyleModel",
          "model_module_version": "1.5.0",
          "state": {
            "_model_module": "@jupyter-widgets/controls",
            "_model_module_version": "1.5.0",
            "_model_name": "DescriptionStyleModel",
            "_view_count": null,
            "_view_module": "@jupyter-widgets/base",
            "_view_module_version": "1.2.0",
            "_view_name": "StyleView",
            "description_width": ""
          }
        },
        "70077e86246340f4966c647a0df9d41e": {
          "model_module": "@jupyter-widgets/base",
          "model_name": "LayoutModel",
          "model_module_version": "1.2.0",
          "state": {
            "_model_module": "@jupyter-widgets/base",
            "_model_module_version": "1.2.0",
            "_model_name": "LayoutModel",
            "_view_count": null,
            "_view_module": "@jupyter-widgets/base",
            "_view_module_version": "1.2.0",
            "_view_name": "LayoutView",
            "align_content": null,
            "align_items": null,
            "align_self": null,
            "border": null,
            "bottom": null,
            "display": null,
            "flex": null,
            "flex_flow": null,
            "grid_area": null,
            "grid_auto_columns": null,
            "grid_auto_flow": null,
            "grid_auto_rows": null,
            "grid_column": null,
            "grid_gap": null,
            "grid_row": null,
            "grid_template_areas": null,
            "grid_template_columns": null,
            "grid_template_rows": null,
            "height": null,
            "justify_content": null,
            "justify_items": null,
            "left": null,
            "margin": null,
            "max_height": null,
            "max_width": null,
            "min_height": null,
            "min_width": null,
            "object_fit": null,
            "object_position": null,
            "order": null,
            "overflow": null,
            "overflow_x": null,
            "overflow_y": null,
            "padding": null,
            "right": null,
            "top": null,
            "visibility": null,
            "width": null
          }
        },
        "a2c36afb28dc476286fab8b740df40e1": {
          "model_module": "@jupyter-widgets/controls",
          "model_name": "ProgressStyleModel",
          "model_module_version": "1.5.0",
          "state": {
            "_model_module": "@jupyter-widgets/controls",
            "_model_module_version": "1.5.0",
            "_model_name": "ProgressStyleModel",
            "_view_count": null,
            "_view_module": "@jupyter-widgets/base",
            "_view_module_version": "1.2.0",
            "_view_name": "StyleView",
            "bar_color": null,
            "description_width": ""
          }
        },
        "b47afa3001ca4ad4971564c63ed5f6ed": {
          "model_module": "@jupyter-widgets/base",
          "model_name": "LayoutModel",
          "model_module_version": "1.2.0",
          "state": {
            "_model_module": "@jupyter-widgets/base",
            "_model_module_version": "1.2.0",
            "_model_name": "LayoutModel",
            "_view_count": null,
            "_view_module": "@jupyter-widgets/base",
            "_view_module_version": "1.2.0",
            "_view_name": "LayoutView",
            "align_content": null,
            "align_items": null,
            "align_self": null,
            "border": null,
            "bottom": null,
            "display": null,
            "flex": null,
            "flex_flow": null,
            "grid_area": null,
            "grid_auto_columns": null,
            "grid_auto_flow": null,
            "grid_auto_rows": null,
            "grid_column": null,
            "grid_gap": null,
            "grid_row": null,
            "grid_template_areas": null,
            "grid_template_columns": null,
            "grid_template_rows": null,
            "height": null,
            "justify_content": null,
            "justify_items": null,
            "left": null,
            "margin": null,
            "max_height": null,
            "max_width": null,
            "min_height": null,
            "min_width": null,
            "object_fit": null,
            "object_position": null,
            "order": null,
            "overflow": null,
            "overflow_x": null,
            "overflow_y": null,
            "padding": null,
            "right": null,
            "top": null,
            "visibility": null,
            "width": null
          }
        },
        "4ffd70ece7914a1dadadbb34e1c2d9fa": {
          "model_module": "@jupyter-widgets/controls",
          "model_name": "DescriptionStyleModel",
          "model_module_version": "1.5.0",
          "state": {
            "_model_module": "@jupyter-widgets/controls",
            "_model_module_version": "1.5.0",
            "_model_name": "DescriptionStyleModel",
            "_view_count": null,
            "_view_module": "@jupyter-widgets/base",
            "_view_module_version": "1.2.0",
            "_view_name": "StyleView",
            "description_width": ""
          }
        },
        "d4f22bafc97b4c588523091cb3ee9789": {
          "model_module": "@jupyter-widgets/controls",
          "model_name": "HBoxModel",
          "model_module_version": "1.5.0",
          "state": {
            "_dom_classes": [],
            "_model_module": "@jupyter-widgets/controls",
            "_model_module_version": "1.5.0",
            "_model_name": "HBoxModel",
            "_view_count": null,
            "_view_module": "@jupyter-widgets/controls",
            "_view_module_version": "1.5.0",
            "_view_name": "HBoxView",
            "box_style": "",
            "children": [
              "IPY_MODEL_03595343543247d398da99997cf87a6a",
              "IPY_MODEL_87cd1f7c0270490b9f30343c807ca896",
              "IPY_MODEL_826139631b144140b7d7243df76c65d6"
            ],
            "layout": "IPY_MODEL_8baa68b0efd549e89948500e8aafbd8d"
          }
        },
        "03595343543247d398da99997cf87a6a": {
          "model_module": "@jupyter-widgets/controls",
          "model_name": "HTMLModel",
          "model_module_version": "1.5.0",
          "state": {
            "_dom_classes": [],
            "_model_module": "@jupyter-widgets/controls",
            "_model_module_version": "1.5.0",
            "_model_name": "HTMLModel",
            "_view_count": null,
            "_view_module": "@jupyter-widgets/controls",
            "_view_module_version": "1.5.0",
            "_view_name": "HTMLView",
            "description": "",
            "description_tooltip": null,
            "layout": "IPY_MODEL_2ebdab9de0ab40dd9cee265885abdb24",
            "placeholder": "​",
            "style": "IPY_MODEL_eaddde5821a14c7eb5a746aed1bd7411",
            "value": "Map: 100%"
          }
        },
        "87cd1f7c0270490b9f30343c807ca896": {
          "model_module": "@jupyter-widgets/controls",
          "model_name": "FloatProgressModel",
          "model_module_version": "1.5.0",
          "state": {
            "_dom_classes": [],
            "_model_module": "@jupyter-widgets/controls",
            "_model_module_version": "1.5.0",
            "_model_name": "FloatProgressModel",
            "_view_count": null,
            "_view_module": "@jupyter-widgets/controls",
            "_view_module_version": "1.5.0",
            "_view_name": "ProgressView",
            "bar_style": "success",
            "description": "",
            "description_tooltip": null,
            "layout": "IPY_MODEL_befe6f5843bb4fa7bc077268746f47fa",
            "max": 1457,
            "min": 0,
            "orientation": "horizontal",
            "style": "IPY_MODEL_295ba1d17535453cbffd4d762bc80982",
            "value": 1457
          }
        },
        "826139631b144140b7d7243df76c65d6": {
          "model_module": "@jupyter-widgets/controls",
          "model_name": "HTMLModel",
          "model_module_version": "1.5.0",
          "state": {
            "_dom_classes": [],
            "_model_module": "@jupyter-widgets/controls",
            "_model_module_version": "1.5.0",
            "_model_name": "HTMLModel",
            "_view_count": null,
            "_view_module": "@jupyter-widgets/controls",
            "_view_module_version": "1.5.0",
            "_view_name": "HTMLView",
            "description": "",
            "description_tooltip": null,
            "layout": "IPY_MODEL_2e9bfc2c8a8d4318979513ea21facc8d",
            "placeholder": "​",
            "style": "IPY_MODEL_150a0392d1ed4036bac20504d7f8ca08",
            "value": " 1457/1457 [00:02&lt;00:00, 578.66 examples/s]"
          }
        },
        "8baa68b0efd549e89948500e8aafbd8d": {
          "model_module": "@jupyter-widgets/base",
          "model_name": "LayoutModel",
          "model_module_version": "1.2.0",
          "state": {
            "_model_module": "@jupyter-widgets/base",
            "_model_module_version": "1.2.0",
            "_model_name": "LayoutModel",
            "_view_count": null,
            "_view_module": "@jupyter-widgets/base",
            "_view_module_version": "1.2.0",
            "_view_name": "LayoutView",
            "align_content": null,
            "align_items": null,
            "align_self": null,
            "border": null,
            "bottom": null,
            "display": null,
            "flex": null,
            "flex_flow": null,
            "grid_area": null,
            "grid_auto_columns": null,
            "grid_auto_flow": null,
            "grid_auto_rows": null,
            "grid_column": null,
            "grid_gap": null,
            "grid_row": null,
            "grid_template_areas": null,
            "grid_template_columns": null,
            "grid_template_rows": null,
            "height": null,
            "justify_content": null,
            "justify_items": null,
            "left": null,
            "margin": null,
            "max_height": null,
            "max_width": null,
            "min_height": null,
            "min_width": null,
            "object_fit": null,
            "object_position": null,
            "order": null,
            "overflow": null,
            "overflow_x": null,
            "overflow_y": null,
            "padding": null,
            "right": null,
            "top": null,
            "visibility": null,
            "width": null
          }
        },
        "2ebdab9de0ab40dd9cee265885abdb24": {
          "model_module": "@jupyter-widgets/base",
          "model_name": "LayoutModel",
          "model_module_version": "1.2.0",
          "state": {
            "_model_module": "@jupyter-widgets/base",
            "_model_module_version": "1.2.0",
            "_model_name": "LayoutModel",
            "_view_count": null,
            "_view_module": "@jupyter-widgets/base",
            "_view_module_version": "1.2.0",
            "_view_name": "LayoutView",
            "align_content": null,
            "align_items": null,
            "align_self": null,
            "border": null,
            "bottom": null,
            "display": null,
            "flex": null,
            "flex_flow": null,
            "grid_area": null,
            "grid_auto_columns": null,
            "grid_auto_flow": null,
            "grid_auto_rows": null,
            "grid_column": null,
            "grid_gap": null,
            "grid_row": null,
            "grid_template_areas": null,
            "grid_template_columns": null,
            "grid_template_rows": null,
            "height": null,
            "justify_content": null,
            "justify_items": null,
            "left": null,
            "margin": null,
            "max_height": null,
            "max_width": null,
            "min_height": null,
            "min_width": null,
            "object_fit": null,
            "object_position": null,
            "order": null,
            "overflow": null,
            "overflow_x": null,
            "overflow_y": null,
            "padding": null,
            "right": null,
            "top": null,
            "visibility": null,
            "width": null
          }
        },
        "eaddde5821a14c7eb5a746aed1bd7411": {
          "model_module": "@jupyter-widgets/controls",
          "model_name": "DescriptionStyleModel",
          "model_module_version": "1.5.0",
          "state": {
            "_model_module": "@jupyter-widgets/controls",
            "_model_module_version": "1.5.0",
            "_model_name": "DescriptionStyleModel",
            "_view_count": null,
            "_view_module": "@jupyter-widgets/base",
            "_view_module_version": "1.2.0",
            "_view_name": "StyleView",
            "description_width": ""
          }
        },
        "befe6f5843bb4fa7bc077268746f47fa": {
          "model_module": "@jupyter-widgets/base",
          "model_name": "LayoutModel",
          "model_module_version": "1.2.0",
          "state": {
            "_model_module": "@jupyter-widgets/base",
            "_model_module_version": "1.2.0",
            "_model_name": "LayoutModel",
            "_view_count": null,
            "_view_module": "@jupyter-widgets/base",
            "_view_module_version": "1.2.0",
            "_view_name": "LayoutView",
            "align_content": null,
            "align_items": null,
            "align_self": null,
            "border": null,
            "bottom": null,
            "display": null,
            "flex": null,
            "flex_flow": null,
            "grid_area": null,
            "grid_auto_columns": null,
            "grid_auto_flow": null,
            "grid_auto_rows": null,
            "grid_column": null,
            "grid_gap": null,
            "grid_row": null,
            "grid_template_areas": null,
            "grid_template_columns": null,
            "grid_template_rows": null,
            "height": null,
            "justify_content": null,
            "justify_items": null,
            "left": null,
            "margin": null,
            "max_height": null,
            "max_width": null,
            "min_height": null,
            "min_width": null,
            "object_fit": null,
            "object_position": null,
            "order": null,
            "overflow": null,
            "overflow_x": null,
            "overflow_y": null,
            "padding": null,
            "right": null,
            "top": null,
            "visibility": null,
            "width": null
          }
        },
        "295ba1d17535453cbffd4d762bc80982": {
          "model_module": "@jupyter-widgets/controls",
          "model_name": "ProgressStyleModel",
          "model_module_version": "1.5.0",
          "state": {
            "_model_module": "@jupyter-widgets/controls",
            "_model_module_version": "1.5.0",
            "_model_name": "ProgressStyleModel",
            "_view_count": null,
            "_view_module": "@jupyter-widgets/base",
            "_view_module_version": "1.2.0",
            "_view_name": "StyleView",
            "bar_color": null,
            "description_width": ""
          }
        },
        "2e9bfc2c8a8d4318979513ea21facc8d": {
          "model_module": "@jupyter-widgets/base",
          "model_name": "LayoutModel",
          "model_module_version": "1.2.0",
          "state": {
            "_model_module": "@jupyter-widgets/base",
            "_model_module_version": "1.2.0",
            "_model_name": "LayoutModel",
            "_view_count": null,
            "_view_module": "@jupyter-widgets/base",
            "_view_module_version": "1.2.0",
            "_view_name": "LayoutView",
            "align_content": null,
            "align_items": null,
            "align_self": null,
            "border": null,
            "bottom": null,
            "display": null,
            "flex": null,
            "flex_flow": null,
            "grid_area": null,
            "grid_auto_columns": null,
            "grid_auto_flow": null,
            "grid_auto_rows": null,
            "grid_column": null,
            "grid_gap": null,
            "grid_row": null,
            "grid_template_areas": null,
            "grid_template_columns": null,
            "grid_template_rows": null,
            "height": null,
            "justify_content": null,
            "justify_items": null,
            "left": null,
            "margin": null,
            "max_height": null,
            "max_width": null,
            "min_height": null,
            "min_width": null,
            "object_fit": null,
            "object_position": null,
            "order": null,
            "overflow": null,
            "overflow_x": null,
            "overflow_y": null,
            "padding": null,
            "right": null,
            "top": null,
            "visibility": null,
            "width": null
          }
        },
        "150a0392d1ed4036bac20504d7f8ca08": {
          "model_module": "@jupyter-widgets/controls",
          "model_name": "DescriptionStyleModel",
          "model_module_version": "1.5.0",
          "state": {
            "_model_module": "@jupyter-widgets/controls",
            "_model_module_version": "1.5.0",
            "_model_name": "DescriptionStyleModel",
            "_view_count": null,
            "_view_module": "@jupyter-widgets/base",
            "_view_module_version": "1.2.0",
            "_view_name": "StyleView",
            "description_width": ""
          }
        }
      }
    }
  },
  "cells": [
    {
      "cell_type": "markdown",
      "source": [
        "# 3.3 類似文章検索のファインチューニング"
      ],
      "metadata": {
        "id": "eYyKl10mYGeZ"
      }
    },
    {
      "cell_type": "markdown",
      "source": [
        "本ノートブックでは、JSTSデータセットを用いて、文章の類似度を計算するモデルをファインチューニングします。"
      ],
      "metadata": {
        "id": "I_93l1tKa_QW"
      }
    },
    {
      "cell_type": "markdown",
      "source": [
        "モデルの評価は、Notebook「3-2_text_similarity_eval.ipynb」をご確認ください。"
      ],
      "metadata": {
        "id": "-H2u-jVXVXtf"
      }
    },
    {
      "cell_type": "markdown",
      "source": [
        "# 事前準備"
      ],
      "metadata": {
        "id": "kk8Eg5IHia4s"
      }
    },
    {
      "cell_type": "markdown",
      "source": [
        "ファインチューニングの準備として、ライブラリのインストールやデータセットの準備などを行います。"
      ],
      "metadata": {
        "id": "3ZgfFOnoVBWF"
      }
    },
    {
      "cell_type": "markdown",
      "source": [
        "## (1)ライブラリのインストール"
      ],
      "metadata": {
        "id": "ljg_A9_PiqSU"
      }
    },
    {
      "cell_type": "markdown",
      "source": [
        "利用するライブラリをインストールします。"
      ],
      "metadata": {
        "id": "5Js3hU8dVi03"
      }
    },
    {
      "cell_type": "code",
      "source": [
        "! pip install datasets matplotlib japanize-matplotlib\n",
        "! pip install fugashi unidic_lite\n",
        "! pip install transformers\n",
        "! pip install accelerate"
      ],
      "metadata": {
        "colab": {
          "base_uri": "https://localhost:8080/"
        },
        "id": "eeo3_tKCiu_3",
        "outputId": "9362a496-ad17-4b42-f35c-656601b7663f"
      },
      "execution_count": null,
      "outputs": [
        {
          "output_type": "stream",
          "name": "stdout",
          "text": [
            "Requirement already satisfied: datasets in /usr/local/lib/python3.10/dist-packages (2.21.0)\n",
            "Requirement already satisfied: matplotlib in /usr/local/lib/python3.10/dist-packages (3.7.1)\n",
            "Requirement already satisfied: japanize-matplotlib in /usr/local/lib/python3.10/dist-packages (1.1.3)\n",
            "Requirement already satisfied: filelock in /usr/local/lib/python3.10/dist-packages (from datasets) (3.15.4)\n",
            "Requirement already satisfied: numpy>=1.17 in /usr/local/lib/python3.10/dist-packages (from datasets) (1.26.4)\n",
            "Requirement already satisfied: pyarrow>=15.0.0 in /usr/local/lib/python3.10/dist-packages (from datasets) (17.0.0)\n",
            "Requirement already satisfied: dill<0.3.9,>=0.3.0 in /usr/local/lib/python3.10/dist-packages (from datasets) (0.3.8)\n",
            "Requirement already satisfied: pandas in /usr/local/lib/python3.10/dist-packages (from datasets) (2.1.4)\n",
            "Requirement already satisfied: requests>=2.32.2 in /usr/local/lib/python3.10/dist-packages (from datasets) (2.32.3)\n",
            "Requirement already satisfied: tqdm>=4.66.3 in /usr/local/lib/python3.10/dist-packages (from datasets) (4.66.5)\n",
            "Requirement already satisfied: xxhash in /usr/local/lib/python3.10/dist-packages (from datasets) (3.5.0)\n",
            "Requirement already satisfied: multiprocess in /usr/local/lib/python3.10/dist-packages (from datasets) (0.70.16)\n",
            "Requirement already satisfied: fsspec<=2024.6.1,>=2023.1.0 in /usr/local/lib/python3.10/dist-packages (from fsspec[http]<=2024.6.1,>=2023.1.0->datasets) (2024.6.1)\n",
            "Requirement already satisfied: aiohttp in /usr/local/lib/python3.10/dist-packages (from datasets) (3.10.5)\n",
            "Requirement already satisfied: huggingface-hub>=0.21.2 in /usr/local/lib/python3.10/dist-packages (from datasets) (0.23.5)\n",
            "Requirement already satisfied: packaging in /usr/local/lib/python3.10/dist-packages (from datasets) (24.1)\n",
            "Requirement already satisfied: pyyaml>=5.1 in /usr/local/lib/python3.10/dist-packages (from datasets) (6.0.2)\n",
            "Requirement already satisfied: contourpy>=1.0.1 in /usr/local/lib/python3.10/dist-packages (from matplotlib) (1.2.1)\n",
            "Requirement already satisfied: cycler>=0.10 in /usr/local/lib/python3.10/dist-packages (from matplotlib) (0.12.1)\n",
            "Requirement already satisfied: fonttools>=4.22.0 in /usr/local/lib/python3.10/dist-packages (from matplotlib) (4.53.1)\n",
            "Requirement already satisfied: kiwisolver>=1.0.1 in /usr/local/lib/python3.10/dist-packages (from matplotlib) (1.4.5)\n",
            "Requirement already satisfied: pillow>=6.2.0 in /usr/local/lib/python3.10/dist-packages (from matplotlib) (9.4.0)\n",
            "Requirement already satisfied: pyparsing>=2.3.1 in /usr/local/lib/python3.10/dist-packages (from matplotlib) (3.1.4)\n",
            "Requirement already satisfied: python-dateutil>=2.7 in /usr/local/lib/python3.10/dist-packages (from matplotlib) (2.8.2)\n",
            "Requirement already satisfied: aiohappyeyeballs>=2.3.0 in /usr/local/lib/python3.10/dist-packages (from aiohttp->datasets) (2.4.0)\n",
            "Requirement already satisfied: aiosignal>=1.1.2 in /usr/local/lib/python3.10/dist-packages (from aiohttp->datasets) (1.3.1)\n",
            "Requirement already satisfied: attrs>=17.3.0 in /usr/local/lib/python3.10/dist-packages (from aiohttp->datasets) (24.2.0)\n",
            "Requirement already satisfied: frozenlist>=1.1.1 in /usr/local/lib/python3.10/dist-packages (from aiohttp->datasets) (1.4.1)\n",
            "Requirement already satisfied: multidict<7.0,>=4.5 in /usr/local/lib/python3.10/dist-packages (from aiohttp->datasets) (6.0.5)\n",
            "Requirement already satisfied: yarl<2.0,>=1.0 in /usr/local/lib/python3.10/dist-packages (from aiohttp->datasets) (1.9.4)\n",
            "Requirement already satisfied: async-timeout<5.0,>=4.0 in /usr/local/lib/python3.10/dist-packages (from aiohttp->datasets) (4.0.3)\n",
            "Requirement already satisfied: typing-extensions>=3.7.4.3 in /usr/local/lib/python3.10/dist-packages (from huggingface-hub>=0.21.2->datasets) (4.12.2)\n",
            "Requirement already satisfied: six>=1.5 in /usr/local/lib/python3.10/dist-packages (from python-dateutil>=2.7->matplotlib) (1.16.0)\n",
            "Requirement already satisfied: charset-normalizer<4,>=2 in /usr/local/lib/python3.10/dist-packages (from requests>=2.32.2->datasets) (3.3.2)\n",
            "Requirement already satisfied: idna<4,>=2.5 in /usr/local/lib/python3.10/dist-packages (from requests>=2.32.2->datasets) (3.8)\n",
            "Requirement already satisfied: urllib3<3,>=1.21.1 in /usr/local/lib/python3.10/dist-packages (from requests>=2.32.2->datasets) (2.0.7)\n",
            "Requirement already satisfied: certifi>=2017.4.17 in /usr/local/lib/python3.10/dist-packages (from requests>=2.32.2->datasets) (2024.7.4)\n",
            "Requirement already satisfied: pytz>=2020.1 in /usr/local/lib/python3.10/dist-packages (from pandas->datasets) (2024.1)\n",
            "Requirement already satisfied: tzdata>=2022.1 in /usr/local/lib/python3.10/dist-packages (from pandas->datasets) (2024.1)\n",
            "Requirement already satisfied: fugashi in /usr/local/lib/python3.10/dist-packages (1.3.2)\n",
            "Requirement already satisfied: unidic_lite in /usr/local/lib/python3.10/dist-packages (1.0.8)\n",
            "Requirement already satisfied: transformers in /usr/local/lib/python3.10/dist-packages (4.42.4)\n",
            "Requirement already satisfied: filelock in /usr/local/lib/python3.10/dist-packages (from transformers) (3.15.4)\n",
            "Requirement already satisfied: huggingface-hub<1.0,>=0.23.2 in /usr/local/lib/python3.10/dist-packages (from transformers) (0.23.5)\n",
            "Requirement already satisfied: numpy<2.0,>=1.17 in /usr/local/lib/python3.10/dist-packages (from transformers) (1.26.4)\n",
            "Requirement already satisfied: packaging>=20.0 in /usr/local/lib/python3.10/dist-packages (from transformers) (24.1)\n",
            "Requirement already satisfied: pyyaml>=5.1 in /usr/local/lib/python3.10/dist-packages (from transformers) (6.0.2)\n",
            "Requirement already satisfied: regex!=2019.12.17 in /usr/local/lib/python3.10/dist-packages (from transformers) (2024.5.15)\n",
            "Requirement already satisfied: requests in /usr/local/lib/python3.10/dist-packages (from transformers) (2.32.3)\n",
            "Requirement already satisfied: safetensors>=0.4.1 in /usr/local/lib/python3.10/dist-packages (from transformers) (0.4.4)\n",
            "Requirement already satisfied: tokenizers<0.20,>=0.19 in /usr/local/lib/python3.10/dist-packages (from transformers) (0.19.1)\n",
            "Requirement already satisfied: tqdm>=4.27 in /usr/local/lib/python3.10/dist-packages (from transformers) (4.66.5)\n",
            "Requirement already satisfied: fsspec>=2023.5.0 in /usr/local/lib/python3.10/dist-packages (from huggingface-hub<1.0,>=0.23.2->transformers) (2024.6.1)\n",
            "Requirement already satisfied: typing-extensions>=3.7.4.3 in /usr/local/lib/python3.10/dist-packages (from huggingface-hub<1.0,>=0.23.2->transformers) (4.12.2)\n",
            "Requirement already satisfied: charset-normalizer<4,>=2 in /usr/local/lib/python3.10/dist-packages (from requests->transformers) (3.3.2)\n",
            "Requirement already satisfied: idna<4,>=2.5 in /usr/local/lib/python3.10/dist-packages (from requests->transformers) (3.8)\n",
            "Requirement already satisfied: urllib3<3,>=1.21.1 in /usr/local/lib/python3.10/dist-packages (from requests->transformers) (2.0.7)\n",
            "Requirement already satisfied: certifi>=2017.4.17 in /usr/local/lib/python3.10/dist-packages (from requests->transformers) (2024.7.4)\n",
            "Requirement already satisfied: accelerate in /usr/local/lib/python3.10/dist-packages (0.32.1)\n",
            "Requirement already satisfied: numpy<2.0.0,>=1.17 in /usr/local/lib/python3.10/dist-packages (from accelerate) (1.26.4)\n",
            "Requirement already satisfied: packaging>=20.0 in /usr/local/lib/python3.10/dist-packages (from accelerate) (24.1)\n",
            "Requirement already satisfied: psutil in /usr/local/lib/python3.10/dist-packages (from accelerate) (5.9.5)\n",
            "Requirement already satisfied: pyyaml in /usr/local/lib/python3.10/dist-packages (from accelerate) (6.0.2)\n",
            "Requirement already satisfied: torch>=1.10.0 in /usr/local/lib/python3.10/dist-packages (from accelerate) (2.4.0+cu121)\n",
            "Requirement already satisfied: huggingface-hub in /usr/local/lib/python3.10/dist-packages (from accelerate) (0.23.5)\n",
            "Requirement already satisfied: safetensors>=0.3.1 in /usr/local/lib/python3.10/dist-packages (from accelerate) (0.4.4)\n",
            "Requirement already satisfied: filelock in /usr/local/lib/python3.10/dist-packages (from torch>=1.10.0->accelerate) (3.15.4)\n",
            "Requirement already satisfied: typing-extensions>=4.8.0 in /usr/local/lib/python3.10/dist-packages (from torch>=1.10.0->accelerate) (4.12.2)\n",
            "Requirement already satisfied: sympy in /usr/local/lib/python3.10/dist-packages (from torch>=1.10.0->accelerate) (1.13.2)\n",
            "Requirement already satisfied: networkx in /usr/local/lib/python3.10/dist-packages (from torch>=1.10.0->accelerate) (3.3)\n",
            "Requirement already satisfied: jinja2 in /usr/local/lib/python3.10/dist-packages (from torch>=1.10.0->accelerate) (3.1.4)\n",
            "Requirement already satisfied: fsspec in /usr/local/lib/python3.10/dist-packages (from torch>=1.10.0->accelerate) (2024.6.1)\n",
            "Requirement already satisfied: requests in /usr/local/lib/python3.10/dist-packages (from huggingface-hub->accelerate) (2.32.3)\n",
            "Requirement already satisfied: tqdm>=4.42.1 in /usr/local/lib/python3.10/dist-packages (from huggingface-hub->accelerate) (4.66.5)\n",
            "Requirement already satisfied: MarkupSafe>=2.0 in /usr/local/lib/python3.10/dist-packages (from jinja2->torch>=1.10.0->accelerate) (2.1.5)\n",
            "Requirement already satisfied: charset-normalizer<4,>=2 in /usr/local/lib/python3.10/dist-packages (from requests->huggingface-hub->accelerate) (3.3.2)\n",
            "Requirement already satisfied: idna<4,>=2.5 in /usr/local/lib/python3.10/dist-packages (from requests->huggingface-hub->accelerate) (3.8)\n",
            "Requirement already satisfied: urllib3<3,>=1.21.1 in /usr/local/lib/python3.10/dist-packages (from requests->huggingface-hub->accelerate) (2.0.7)\n",
            "Requirement already satisfied: certifi>=2017.4.17 in /usr/local/lib/python3.10/dist-packages (from requests->huggingface-hub->accelerate) (2024.7.4)\n",
            "Requirement already satisfied: mpmath<1.4,>=1.1.0 in /usr/local/lib/python3.10/dist-packages (from sympy->torch>=1.10.0->accelerate) (1.3.0)\n"
          ]
        }
      ]
    },
    {
      "cell_type": "markdown",
      "source": [
        "## 乱数シードの設定"
      ],
      "metadata": {
        "id": "DcYjJshgk3S1"
      }
    },
    {
      "cell_type": "code",
      "source": [
        "from transformers.trainer_utils import set_seed\n",
        "\n",
        "set_seed(2024)"
      ],
      "metadata": {
        "id": "wfd8_5rnj_qh"
      },
      "execution_count": null,
      "outputs": []
    },
    {
      "cell_type": "markdown",
      "source": [
        "## (2)データセットの準備"
      ],
      "metadata": {
        "id": "NuaRq-9rnN5s"
      }
    },
    {
      "cell_type": "markdown",
      "source": [
        "### データセットの読み込み"
      ],
      "metadata": {
        "id": "jTO455K-tG9X"
      }
    },
    {
      "cell_type": "code",
      "source": [
        "from datasets import load_dataset\n",
        "\n",
        "# データセットの読み込み\n",
        "train_dataset = load_dataset(\n",
        "    \"shunk031/JGLUE\", name=\"JSTS\", split=\"train\", trust_remote_code=True\n",
        "    )\n",
        "\n",
        "valid_dataset = load_dataset(\n",
        "    \"shunk031/JGLUE\", name=\"JSTS\", split=\"validation\",trust_remote_code=True\n",
        "    )"
      ],
      "metadata": {
        "colab": {
          "base_uri": "https://localhost:8080/"
        },
        "id": "axCA3jJenFdT",
        "outputId": "086011f8-5490-4f4c-a8e3-1400967084c8"
      },
      "execution_count": null,
      "outputs": [
        {
          "output_type": "stream",
          "name": "stderr",
          "text": [
            "/usr/local/lib/python3.10/dist-packages/huggingface_hub/utils/_token.py:89: UserWarning: \n",
            "The secret `HF_TOKEN` does not exist in your Colab secrets.\n",
            "To authenticate with the Hugging Face Hub, create a token in your settings tab (https://huggingface.co/settings/tokens), set it as secret in your Google Colab and restart your session.\n",
            "You will be able to reuse this secret in all of your notebooks.\n",
            "Please note that authentication is recommended but still optional to access public models or datasets.\n",
            "  warnings.warn(\n"
          ]
        }
      ]
    },
    {
      "cell_type": "markdown",
      "source": [
        "### データセットの概要を確認"
      ],
      "metadata": {
        "id": "R1xjqA1xs6zw"
      }
    },
    {
      "cell_type": "code",
      "source": [
        "# データセットの概要を表示する\n",
        "print('学習データ')\n",
        "print(train_dataset)\n",
        "\n",
        "print()\n",
        "\n",
        "print('評価データ')\n",
        "print(valid_dataset)"
      ],
      "metadata": {
        "colab": {
          "base_uri": "https://localhost:8080/"
        },
        "id": "gXVofRakn3SU",
        "outputId": "9042f323-b4b5-4e8d-87b1-c697fbcbc6ea"
      },
      "execution_count": null,
      "outputs": [
        {
          "output_type": "stream",
          "name": "stdout",
          "text": [
            "学習データ\n",
            "Dataset({\n",
            "    features: ['sentence_pair_id', 'yjcaptions_id', 'sentence1', 'sentence2', 'label'],\n",
            "    num_rows: 12451\n",
            "})\n",
            "\n",
            "評価データ\n",
            "Dataset({\n",
            "    features: ['sentence_pair_id', 'yjcaptions_id', 'sentence1', 'sentence2', 'label'],\n",
            "    num_rows: 1457\n",
            "})\n"
          ]
        }
      ]
    },
    {
      "cell_type": "markdown",
      "source": [
        "### データセットの中身を確認"
      ],
      "metadata": {
        "id": "PsyLQUfftCAI"
      }
    },
    {
      "cell_type": "code",
      "source": [
        "from pprint import pprint\n",
        "\n",
        "# データセットの中身を確認する\n",
        "print(\"学習データ\")\n",
        "pprint(train_dataset[0])\n",
        "\n",
        "print()\n",
        "\n",
        "print(\"評価データ\")\n",
        "pprint(valid_dataset[0])"
      ],
      "metadata": {
        "colab": {
          "base_uri": "https://localhost:8080/"
        },
        "id": "7p513K_CqzaV",
        "outputId": "3b0aa0f3-85d3-4366-a6d9-5fece5fc5d70"
      },
      "execution_count": null,
      "outputs": [
        {
          "output_type": "stream",
          "name": "stdout",
          "text": [
            "学習データ\n",
            "{'label': 0.0,\n",
            " 'sentence1': '川べりでサーフボードを持った人たちがいます。',\n",
            " 'sentence2': 'トイレの壁に黒いタオルがかけられています。',\n",
            " 'sentence_pair_id': '0',\n",
            " 'yjcaptions_id': '10005_480798-10996-92616'}\n",
            "\n",
            "評価データ\n",
            "{'label': 0.0,\n",
            " 'sentence1': 'レンガの建物の前を、乳母車を押した女性が歩いています。',\n",
            " 'sentence2': '厩舎で馬と女性とが寄り添っています。',\n",
            " 'sentence_pair_id': '0',\n",
            " 'yjcaptions_id': '100312_421853-104611-31624'}\n"
          ]
        }
      ]
    },
    {
      "cell_type": "markdown",
      "source": [
        "## (3)モデルの読み込み"
      ],
      "metadata": {
        "id": "6-vZo7NlKzED"
      }
    },
    {
      "cell_type": "markdown",
      "source": [
        "類似度を計算する際に利用するモデルを準備します。"
      ],
      "metadata": {
        "id": "ldpMeZzOjtVm"
      }
    },
    {
      "cell_type": "code",
      "source": [
        "from transformers import AutoModelForSequenceClassification\n",
        "\n",
        "# モデルの読み込み\n",
        "model = AutoModelForSequenceClassification.from_pretrained(\n",
        "    \"cl-tohoku/bert-base-japanese-v3\",\n",
        "    num_labels=1,\n",
        "    problem_type=\"regression\",\n",
        ")"
      ],
      "metadata": {
        "colab": {
          "base_uri": "https://localhost:8080/"
        },
        "id": "r3iiF92fa-Is",
        "outputId": "c1ae94ef-5e40-4418-8bac-0e76556e22df"
      },
      "execution_count": null,
      "outputs": [
        {
          "output_type": "stream",
          "name": "stderr",
          "text": [
            "Some weights of BertForSequenceClassification were not initialized from the model checkpoint at cl-tohoku/bert-base-japanese-v3 and are newly initialized: ['classifier.bias', 'classifier.weight']\n",
            "You should probably TRAIN this model on a down-stream task to be able to use it for predictions and inference.\n"
          ]
        }
      ]
    },
    {
      "cell_type": "markdown",
      "source": [
        "## (4)トークナイザの準備"
      ],
      "metadata": {
        "id": "LDsWVAm4sSQi"
      }
    },
    {
      "cell_type": "markdown",
      "source": [
        "テキストをトークンに分割するために、トークナイザを準備します。"
      ],
      "metadata": {
        "id": "pQscNtlfsawz"
      }
    },
    {
      "cell_type": "code",
      "source": [
        "from transformers import AutoTokenizer\n",
        "\n",
        "# モデルに対応したトークナイザの読み込み\n",
        "tokenizer = AutoTokenizer.from_pretrained(\"cl-tohoku/bert-base-japanese-v3\")\n",
        "\n",
        "# トークナイザの種類の確認\n",
        "print(tokenizer)"
      ],
      "metadata": {
        "colab": {
          "base_uri": "https://localhost:8080/"
        },
        "id": "XssP1sqxsaXx",
        "outputId": "16634115-acf3-4e6d-826e-ca6ccf9885e7"
      },
      "execution_count": null,
      "outputs": [
        {
          "output_type": "stream",
          "name": "stdout",
          "text": [
            "BertJapaneseTokenizer(name_or_path='cl-tohoku/bert-base-japanese-v3', vocab_size=32768, model_max_length=512, is_fast=False, padding_side='right', truncation_side='right', special_tokens={'unk_token': '[UNK]', 'sep_token': '[SEP]', 'pad_token': '[PAD]', 'cls_token': '[CLS]', 'mask_token': '[MASK]'}, clean_up_tokenization_spaces=True),  added_tokens_decoder={\n",
            "\t0: AddedToken(\"[PAD]\", rstrip=False, lstrip=False, single_word=False, normalized=False, special=True),\n",
            "\t1: AddedToken(\"[UNK]\", rstrip=False, lstrip=False, single_word=False, normalized=False, special=True),\n",
            "\t2: AddedToken(\"[CLS]\", rstrip=False, lstrip=False, single_word=False, normalized=False, special=True),\n",
            "\t3: AddedToken(\"[SEP]\", rstrip=False, lstrip=False, single_word=False, normalized=False, special=True),\n",
            "\t4: AddedToken(\"[MASK]\", rstrip=False, lstrip=False, single_word=False, normalized=False, special=True),\n",
            "}\n"
          ]
        }
      ]
    },
    {
      "cell_type": "markdown",
      "source": [
        "### トークンに分割し、トークンIDを付与"
      ],
      "metadata": {
        "id": "PAW17mujH7Qf"
      }
    },
    {
      "cell_type": "code",
      "source": [
        "from transformers import BatchEncoding\n",
        "\n",
        "def tokenize_dataset(example: dict[str, str | int]) -> BatchEncoding:\n",
        "    \"\"\"文ペアをトークン化し、IDに変換\"\"\"\n",
        "    example_output = tokenizer(\n",
        "        example[\"sentence1\"], example[\"sentence2\"], max_length=512\n",
        "    )\n",
        "\n",
        "    example_output[\"labels\"] = example[\"label\"]\n",
        "    return example_output\n",
        "\n",
        "# トークン化の実行\n",
        "tokenized_train_datasets = train_dataset.map(\n",
        "    tokenize_dataset,\n",
        "    remove_columns=train_dataset.column_names,\n",
        ")\n",
        "tokenized_valid_datasets = valid_dataset.map(\n",
        "    tokenize_dataset,\n",
        "    remove_columns=valid_dataset.column_names,\n",
        ")"
      ],
      "metadata": {
        "id": "t82KinrnICPa",
        "colab": {
          "base_uri": "https://localhost:8080/",
          "height": 153,
          "referenced_widgets": [
            "448ae78058e444a6a1fc5e38ce8e511a",
            "70d08718ec11495f9268dc25bffbf302",
            "e626470d03704924b5c55d05dea49069",
            "8bbd3c13acaa46fd906b746eb7de1c88",
            "576a7e4b0fa2422497806cc94d9e9218",
            "bee1f019d06241bc9f5094279fcb5db8",
            "8d5ce5d505e24a2a87948cc6e5031f85",
            "70077e86246340f4966c647a0df9d41e",
            "a2c36afb28dc476286fab8b740df40e1",
            "b47afa3001ca4ad4971564c63ed5f6ed",
            "4ffd70ece7914a1dadadbb34e1c2d9fa",
            "d4f22bafc97b4c588523091cb3ee9789",
            "03595343543247d398da99997cf87a6a",
            "87cd1f7c0270490b9f30343c807ca896",
            "826139631b144140b7d7243df76c65d6",
            "8baa68b0efd549e89948500e8aafbd8d",
            "2ebdab9de0ab40dd9cee265885abdb24",
            "eaddde5821a14c7eb5a746aed1bd7411",
            "befe6f5843bb4fa7bc077268746f47fa",
            "295ba1d17535453cbffd4d762bc80982",
            "2e9bfc2c8a8d4318979513ea21facc8d",
            "150a0392d1ed4036bac20504d7f8ca08"
          ]
        },
        "outputId": "01c18eb7-8591-41ff-c32b-7d745b08d532"
      },
      "execution_count": null,
      "outputs": [
        {
          "output_type": "stream",
          "name": "stderr",
          "text": [
            "Parameter 'function'=<function tokenize_dataset at 0x7dbff8b21b40> of the transform datasets.arrow_dataset.Dataset._map_single couldn't be hashed properly, a random hash was used instead. Make sure your transforms and parameters are serializable with pickle or dill for the dataset fingerprinting and caching to work. If you reuse this transform, the caching mechanism will consider it to be different from the previous calls and recompute everything. This warning is only showed once. Subsequent hashing failures won't be showed.\n",
            "WARNING:datasets.fingerprint:Parameter 'function'=<function tokenize_dataset at 0x7dbff8b21b40> of the transform datasets.arrow_dataset.Dataset._map_single couldn't be hashed properly, a random hash was used instead. Make sure your transforms and parameters are serializable with pickle or dill for the dataset fingerprinting and caching to work. If you reuse this transform, the caching mechanism will consider it to be different from the previous calls and recompute everything. This warning is only showed once. Subsequent hashing failures won't be showed.\n"
          ]
        },
        {
          "output_type": "display_data",
          "data": {
            "text/plain": [
              "Map:   0%|          | 0/12451 [00:00<?, ? examples/s]"
            ],
            "application/vnd.jupyter.widget-view+json": {
              "version_major": 2,
              "version_minor": 0,
              "model_id": "448ae78058e444a6a1fc5e38ce8e511a"
            }
          },
          "metadata": {}
        },
        {
          "output_type": "stream",
          "name": "stderr",
          "text": [
            "Truncation was not explicitly activated but `max_length` is provided a specific value, please use `truncation=True` to explicitly truncate examples to max length. Defaulting to 'longest_first' truncation strategy. If you encode pairs of sequences (GLUE-style) with the tokenizer you can select this strategy more precisely by providing a specific strategy to `truncation`.\n"
          ]
        },
        {
          "output_type": "display_data",
          "data": {
            "text/plain": [
              "Map:   0%|          | 0/1457 [00:00<?, ? examples/s]"
            ],
            "application/vnd.jupyter.widget-view+json": {
              "version_major": 2,
              "version_minor": 0,
              "model_id": "d4f22bafc97b4c588523091cb3ee9789"
            }
          },
          "metadata": {}
        }
      ]
    },
    {
      "cell_type": "markdown",
      "source": [
        "### ミニバッチ構築"
      ],
      "metadata": {
        "id": "6oC_TJykJ33D"
      }
    },
    {
      "cell_type": "code",
      "source": [
        "from transformers import DataCollatorWithPadding\n",
        "\n",
        "data_collator = DataCollatorWithPadding(tokenizer=tokenizer)"
      ],
      "metadata": {
        "id": "WDoc_DUiKh47"
      },
      "execution_count": null,
      "outputs": []
    },
    {
      "cell_type": "markdown",
      "source": [
        "## (5)データの確認"
      ],
      "metadata": {
        "id": "Wo9QpjpYmhu3"
      }
    },
    {
      "cell_type": "markdown",
      "source": [
        "類似度毎の件数を可視化してみます。"
      ],
      "metadata": {
        "id": "iGgucZ8Oml3D"
      }
    },
    {
      "cell_type": "code",
      "source": [
        "import matplotlib.pyplot as plt\n",
        "import japanize_matplotlib\n",
        "\n",
        "scores = []\n",
        "for data in train_dataset:\n",
        "    scores.append(data[\"label\"])\n",
        "\n",
        "plt.hist(scores,bins=20,histtype=\"bar\", edgecolor=\"black\")\n",
        "plt.title('学習データの類似度スコア分布')\n",
        "plt.xlabel(\"類似度スコア\")\n",
        "plt.ylabel(\"件数\")\n",
        "plt.show()\n"
      ],
      "metadata": {
        "colab": {
          "base_uri": "https://localhost:8080/",
          "height": 469
        },
        "id": "xFe7YynzuOCK",
        "outputId": "6a914b26-a279-4df7-e8ef-ad111fad365a"
      },
      "execution_count": null,
      "outputs": [
        {
          "output_type": "display_data",
          "data": {
            "text/plain": [
              "<Figure size 640x480 with 1 Axes>"
            ],
            "image/png": "[encoded data removed]"
          },
          "metadata": {}
        }
      ]
    },
    {
      "cell_type": "code",
      "source": [
        "import matplotlib.pyplot as plt\n",
        "import japanize_matplotlib\n",
        "\n",
        "scores = []\n",
        "for data in valid_dataset:\n",
        "    scores.append(data[\"label\"])\n",
        "\n",
        "plt.hist(scores,bins=20,histtype=\"bar\", edgecolor=\"black\")\n",
        "plt.title('検証データの類似度スコア分布')\n",
        "plt.xlabel(\"類似度スコア\")\n",
        "plt.ylabel(\"件数\")\n",
        "plt.show()\n"
      ],
      "metadata": {
        "colab": {
          "base_uri": "https://localhost:8080/",
          "height": 469
        },
        "id": "12mxldEd4fl_",
        "outputId": "e06b5955-6429-45a6-cb30-12d70c377ac7"
      },
      "execution_count": null,
      "outputs": [
        {
          "output_type": "display_data",
          "data": {
            "text/plain": [
              "<Figure size 640x480 with 1 Axes>"
            ],
            "image/png": "[encoded data removed]"
          },
          "metadata": {}
        }
      ]
    },
    {
      "cell_type": "markdown",
      "source": [
        "# ファインチューニングの実装"
      ],
      "metadata": {
        "id": "zDc8vwQfijq8"
      }
    },
    {
      "cell_type": "markdown",
      "source": [
        "事前準備ができたので、モデルをファインチューニングします。"
      ],
      "metadata": {
        "id": "GLCHonVnnBUf"
      }
    },
    {
      "cell_type": "markdown",
      "source": [
        "## (1)評価関数の定義"
      ],
      "metadata": {
        "id": "qSdHjgvgMf2Y"
      }
    },
    {
      "cell_type": "markdown",
      "source": [
        "以下の関数にて、学習時に利用する評価指標の計算を行います。"
      ],
      "metadata": {
        "id": "25DyctennMs4"
      }
    },
    {
      "cell_type": "code",
      "source": [
        "import numpy as np\n",
        "from scipy.stats import pearsonr, spearmanr\n",
        "\n",
        "def compute_metrics(\n",
        "    eval_pred: tuple[np.ndarray, np.ndarray]\n",
        ") -> dict[str, float]:\n",
        "    \"\"\"予測スコアと正解スコアを入力として、ピアソン、スピアマンの相関係数を算出\"\"\"\n",
        "    predictions, labels = eval_pred\n",
        "    predictions = predictions.squeeze(1)\n",
        "    return {\n",
        "        \"pearsonr\": pearsonr(predictions, labels).statistic,\n",
        "        \"spearmanr\": spearmanr(predictions, labels).statistic,\n",
        "    }"
      ],
      "metadata": {
        "id": "P5zBYPc7M0Tw"
      },
      "execution_count": null,
      "outputs": []
    },
    {
      "cell_type": "markdown",
      "source": [
        "## (2)学習条件の設定"
      ],
      "metadata": {
        "id": "gBN2udcEMbeZ"
      }
    },
    {
      "cell_type": "markdown",
      "source": [
        "学習の条件を設定するため、`TrainingArguments`クラスに各種条件を指定します。"
      ],
      "metadata": {
        "id": "uakMOGleoXAL"
      }
    },
    {
      "cell_type": "code",
      "source": [
        "from transformers import TrainingArguments\n",
        "\n",
        "training_args = TrainingArguments(\n",
        "    output_dir=\"output_jsts\",  # 結果の保存フォルダ\n",
        "    num_train_epochs=3,  # 学習エポック数\n",
        "    learning_rate=2e-5,  # 学習率\n",
        "    lr_scheduler_type=\"linear\",  # 学習率スケジューラの種類\n",
        "    warmup_ratio=0.1,  # 学習率のウォームアップの長さを指定\n",
        "    per_device_train_batch_size=32,  # 学習時のバッチサイズ\n",
        "    per_device_eval_batch_size=32,  # 評価時のバッチサイズ\n",
        "    save_strategy=\"epoch\",  # モデルの保存タイミング\n",
        "    logging_strategy=\"epoch\",  # ログの出力タイミング\n",
        "    evaluation_strategy=\"epoch\",  # 評価のタイミング\n",
        "    load_best_model_at_end=True,  # 最良のモデルを最後に読み込むかどうか\n",
        "    metric_for_best_model=\"spearmanr\",  # 最良のモデルを判断する指標\n",
        "    fp16=True,  # 自動混合精度演算の有効化\n",
        "    overwrite_output_dir=True,  # 出力先のディレクトリを上書きするかどうか\n",
        ")"
      ],
      "metadata": {
        "id": "NFuAv2Z-XCtA",
        "colab": {
          "base_uri": "https://localhost:8080/"
        },
        "outputId": "e86ba66b-077a-45d8-f975-51f14c80cf8a"
      },
      "execution_count": null,
      "outputs": [
        {
          "output_type": "stream",
          "name": "stderr",
          "text": [
            "/usr/local/lib/python3.10/dist-packages/transformers/training_args.py:1494: FutureWarning: `evaluation_strategy` is deprecated and will be removed in version 4.46 of 🤗 Transformers. Use `eval_strategy` instead\n",
            "  warnings.warn(\n"
          ]
        }
      ]
    },
    {
      "cell_type": "markdown",
      "source": [
        "## (3)ファインチューニングの実行"
      ],
      "metadata": {
        "id": "CQnpWzW6NBEG"
      }
    },
    {
      "cell_type": "markdown",
      "source": [
        "trainer.train() 関数を実行してファインチューニングを開始します。 Google Colab で T4 の GPU を選択した場合には約3分ほど時間がかかります。"
      ],
      "metadata": {
        "id": "DjG_rJfLovpF"
      }
    },
    {
      "cell_type": "code",
      "source": [
        "from transformers import Trainer\n",
        "\n",
        "trainer = Trainer(\n",
        "    model=model,  # 利用するモデル\n",
        "    args=training_args,  # 学習時の設定\n",
        "    train_dataset=tokenized_train_datasets,  # 学習データ\n",
        "    eval_dataset=tokenized_valid_datasets,  # 評価データ\n",
        "    data_collator=data_collator,  # データの前処理\n",
        "    compute_metrics=compute_metrics,  # 評価指標の計算\n",
        ")"
      ],
      "metadata": {
        "id": "523PtpGcM8p0",
        "colab": {
          "base_uri": "https://localhost:8080/"
        },
        "outputId": "cfb4e72c-2f75-4446-f4c1-31b28b058d14"
      },
      "execution_count": null,
      "outputs": [
        {
          "output_type": "stream",
          "name": "stderr",
          "text": [
            "/usr/local/lib/python3.10/dist-packages/accelerate/accelerator.py:482: FutureWarning: `torch.cuda.amp.GradScaler(args...)` is deprecated. Please use `torch.amp.GradScaler('cuda', args...)` instead.\n",
            "  self.scaler = torch.cuda.amp.GradScaler(**kwargs)\n"
          ]
        }
      ]
    },
    {
      "cell_type": "code",
      "source": [
        "trainer.train()"
      ],
      "metadata": {
        "id": "aX6fMbeKNUQT",
        "colab": {
          "base_uri": "https://localhost:8080/",
          "height": 222
        },
        "outputId": "4c75ada2-eb34-45ed-8d76-1e20eb68bcb9"
      },
      "execution_count": null,
      "outputs": [
        {
          "output_type": "display_data",
          "data": {
            "text/plain": [
              "<IPython.core.display.HTML object>"
            ],
            "text/html": [
              "\n",
              "    <div>\n",
              "      \n",
              "      <progress value='1170' max='1170' style='width:300px; height:20px; vertical-align: middle;'></progress>\n",
              "      [1170/1170 03:12, Epoch 3/3]\n",
              "    </div>\n",
              "    <table border=\"1\" class=\"dataframe\">\n",
              "  <thead>\n",
              " <tr style=\"text-align: left;\">\n",
              "      <th>Epoch</th>\n",
              "      <th>Training Loss</th>\n",
              "      <th>Validation Loss</th>\n",
              "      <th>Pearsonr</th>\n",
              "      <th>Spearmanr</th>\n",
              "    </tr>\n",
              "  </thead>\n",
              "  <tbody>\n",
              "    <tr>\n",
              "      <td>1</td>\n",
              "      <td>1.134900</td>\n",
              "      <td>0.374046</td>\n",
              "      <td>0.904713</td>\n",
              "      <td>0.862891</td>\n",
              "    </tr>\n",
              "    <tr>\n",
              "      <td>2</td>\n",
              "      <td>0.338300</td>\n",
              "      <td>0.387262</td>\n",
              "      <td>0.907830</td>\n",
              "      <td>0.870909</td>\n",
              "    </tr>\n",
              "    <tr>\n",
              "      <td>3</td>\n",
              "      <td>0.250400</td>\n",
              "      <td>0.338652</td>\n",
              "      <td>0.913993</td>\n",
              "      <td>0.874482</td>\n",
              "    </tr>\n",
              "  </tbody>\n",
              "</table><p>"
            ]
          },
          "metadata": {}
        },
        {
          "output_type": "execute_result",
          "data": {
            "text/plain": [
              "TrainOutput(global_step=1170, training_loss=0.5745594448513455, metrics={'train_runtime': 192.898, 'train_samples_per_second': 193.641, 'train_steps_per_second': 6.065, 'total_flos': 1013774752275654.0, 'train_loss': 0.5745594448513455, 'epoch': 3.0})"
            ]
          },
          "metadata": {},
          "execution_count": 15
        }
      ]
    },
    {
      "cell_type": "code",
      "source": [
        "# 評価指標の確認\n",
        "eval_metrics = trainer.evaluate(tokenized_valid_datasets)\n",
        "\n",
        "pprint(eval_metrics)"
      ],
      "metadata": {
        "id": "OiZjaCZDNm4b",
        "colab": {
          "base_uri": "https://localhost:8080/",
          "height": 159
        },
        "outputId": "eaf6baaa-710a-4565-fd92-f2dfd9a0f8f0"
      },
      "execution_count": null,
      "outputs": [
        {
          "output_type": "display_data",
          "data": {
            "text/plain": [
              "<IPython.core.display.HTML object>"
            ],
            "text/html": [
              "\n",
              "    <div>\n",
              "      \n",
              "      <progress value='46' max='46' style='width:300px; height:20px; vertical-align: middle;'></progress>\n",
              "      [46/46 00:01]\n",
              "    </div>\n",
              "    "
            ]
          },
          "metadata": {}
        },
        {
          "output_type": "stream",
          "name": "stdout",
          "text": [
            "{'epoch': 3.0,\n",
            " 'eval_loss': 0.33865225315093994,\n",
            " 'eval_pearsonr': 0.9139927234170125,\n",
            " 'eval_runtime': 1.3297,\n",
            " 'eval_samples_per_second': 1095.705,\n",
            " 'eval_spearmanr': 0.8744820951335042,\n",
            " 'eval_steps_per_second': 34.593}\n"
          ]
        }
      ]
    },
    {
      "cell_type": "markdown",
      "source": [
        "## (4)モデルの保存"
      ],
      "metadata": {
        "id": "DlRwwwBSORYO"
      }
    },
    {
      "cell_type": "markdown",
      "source": [
        "次のコードを実行してファインチューニング済みのモデルを保存します。"
      ],
      "metadata": {
        "id": "G7DJUzUCpuJz"
      }
    },
    {
      "cell_type": "code",
      "source": [
        "# 保存\n",
        "trainer.save_state()  # 評価データのメトリクスの情報を保存\n",
        "trainer.save_model()  # モデルの保存\n",
        "\n",
        "# 以下のように保存先を引数として指定することも可能です。\n",
        "\n",
        "# google driveに保存する例\n",
        "# from google.colab import drive\n",
        "# drive.mount(\"/content/drive\")\n",
        "# trainer.save_model(\"drive/MyDrive/output_jsts\")\n",
        "\n",
        "# 実行環境に保存する場合\n",
        "# trainer.save_model(\"./output_jsts\")"
      ],
      "metadata": {
        "id": "s7SHqSJPOQoT"
      },
      "execution_count": null,
      "outputs": []
    }
  ]
}