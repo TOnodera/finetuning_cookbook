{
 "cells": [
  {
   "cell_type": "markdown",
   "metadata": {},
   "source": [
    "# 教師なし異常検知\n",
    "## ライブラリのインストール"
   ]
  },
  {
   "cell_type": "code",
   "execution_count": null,
   "metadata": {},
   "outputs": [],
   "source": [
    "%pip install pandas plotly torch torchvision scikit-learn plotly tqdm anomalib==0.7"
   ]
  },
  {
   "cell_type": "code",
   "execution_count": null,
   "metadata": {},
   "outputs": [],
   "source": [
    "import os\n",
    "from pathlib import Path\n",
    "\n",
    "import numpy as np\n",
    "import pandas as pd\n",
    "import plotly.express as px\n",
    "import torch\n",
    "from anomalib.models.patchcore.torch_model import PatchcoreModel\n",
    "from torch.utils.data import DataLoader\n",
    "from torchvision import datasets, transforms\n",
    "from tqdm import tqdm\n",
    "import requests\n",
    "import tarfile"
   ]
  },
  {
   "cell_type": "markdown",
   "metadata": {},
   "source": [
    "\n",
    "## データセットのダウンロード\n",
    "\n",
    "[mvtec](https://www.mvtec.com/company/research/datasets/mvtec-ad/downloads)からデータをダウンロードする。"
   ]
  },
  {
   "cell_type": "code",
   "execution_count": null,
   "metadata": {},
   "outputs": [],
   "source": [
    "# ダウンロードするURL\n",
    "url = \"https://www.mydrive.ch/shares/38536/3830184030e49fe74747669442f0f282/download/420937370-1629951468/bottle.tar.xz\"\n",
    "# 保存先ディレクトリ\n",
    "save_dir = Path(\"data/mvtec_anomaly_detection\")\n",
    "# 保存するファイル名\n",
    "file_name = \"bottle.tar.xz\"\n",
    "# 保存するファイルのパス\n",
    "file_path = save_dir / file_name\n",
    "\n",
    "# ディレクトリが存在しない場合は作成\n",
    "os.makedirs(save_dir, exist_ok=True)\n",
    "\n",
    "# ファイルをダウンロードして保存\n",
    "response = requests.get(url, stream=True)\n",
    "with open(file_path, 'wb') as file:\n",
    "    for chunk in response.iter_content(chunk_size=8192):\n",
    "        file.write(chunk)\n",
    "\n",
    "# ダウンロードしたファイルを展開\n",
    "with tarfile.open(file_path, 'r:xz') as tar:\n",
    "    tar.extractall(path=save_dir)\n",
    "\n",
    "print(f\"ファイルを {save_dir} フォルダにダウンロードして展開しました。\")"
   ]
  },
  {
   "cell_type": "markdown",
   "metadata": {},
   "source": [
    "# モデルの作成"
   ]
  },
  {
   "cell_type": "code",
   "execution_count": null,
   "metadata": {},
   "outputs": [],
   "source": [
    "# モデルの読み込み\n",
    "model = PatchcoreModel(input_size=(64, 64), layers=[\"layer1\", \"layer4\"])\n",
    "\n",
    "# データセットの読み込み\n",
    "transform = transforms.Compose([transforms.Resize((64, 64)), transforms.ToTensor()])\n",
    "train_dataset = datasets.ImageFolder(\n",
    "    root=\"./data/mvtec_anomaly_detection/bottle/train\", transform=transform\n",
    ")\n",
    "train_loader = DataLoader(train_dataset, batch_size=len(train_dataset), shuffle=True)\n",
    "test_dataset = datasets.ImageFolder(\n",
    "    root=\"./data/mvtec_anomaly_detection/bottle/test\", transform=transform\n",
    ")\n",
    "test_loader = DataLoader(test_dataset, batch_size=32, shuffle=False)"
   ]
  },
  {
   "cell_type": "markdown",
   "metadata": {},
   "source": [
    "## 学習の実行"
   ]
  },
  {
   "cell_type": "code",
   "execution_count": null,
   "metadata": {},
   "outputs": [],
   "source": [
    "# デバイスの設定（GPUが利用可能な場合）\n",
    "device = torch.device(\"cuda\" if torch.cuda.is_available() else \"cpu\")\n",
    "model.to(device)\n",
    "\n",
    "# 学習(教師データをembedding)\n",
    "model.train()\n",
    "for data in tqdm(train_loader):\n",
    "    inputs, _ = data\n",
    "    inputs = inputs.to(device)\n",
    "    outputs = model(inputs)\n",
    "model.subsample_embedding(outputs, 0.1)"
   ]
  },
  {
   "cell_type": "markdown",
   "metadata": {},
   "source": [
    "## 評価"
   ]
  },
  {
   "cell_type": "code",
   "execution_count": null,
   "metadata": {},
   "outputs": [],
   "source": [
    "# 推論(テストデータの異常スコアを計算)\n",
    "model.eval()\n",
    "results = []\n",
    "labels = []\n",
    "images = []\n",
    "with torch.no_grad():\n",
    "    for data in tqdm(test_loader):\n",
    "        inputs, label = data\n",
    "        images.append(inputs)\n",
    "        inputs = inputs.to(device)\n",
    "        result = model(inputs)\n",
    "        results.append(result)\n",
    "        labels.append(label)"
   ]
  },
  {
   "cell_type": "markdown",
   "metadata": {},
   "source": [
    "### 異常スコアの可視化"
   ]
  },
  {
   "cell_type": "code",
   "execution_count": null,
   "metadata": {},
   "outputs": [],
   "source": [
    "# 異常スコアの可視化\n",
    "# tensor を画像で表示\n",
    "def convert_to_image(\n",
    "    image: torch.Tensor,\n",
    "    max_val: float | None = None,\n",
    "    min_val: float | None = None,\n",
    "):\n",
    "    # tensorをnumpyに変換\n",
    "    im = image.cpu().detach().numpy()\n",
    "    # 画像の最大値、最小値を指定\n",
    "    if max_val is None:\n",
    "        max_val = im.max()\n",
    "    if min_val is None:\n",
    "        min_val = im.min()\n",
    "    # 画像の正規化\n",
    "    im = np.transpose(im, (1, 2, 0))\n",
    "    im = (im - min_val) / (max_val - min_val)\n",
    "    im = (im * 255).astype(np.uint8)\n",
    "    # 画像のチャンネル数が1の場合、3チャンネルに変換\n",
    "    if im.shape[2] == 1:\n",
    "        im = np.repeat(im, 3, axis=2)\n",
    "    # 画像の表示\n",
    "    return im\n",
    "\n",
    "\n",
    "# ピクセルごとの異常スコアを表示する\n",
    "i = 8\n",
    "error_min = results[0][0].min().item()\n",
    "error_max = results[0][0].max().item()\n",
    "output_dir = Path(\"output/anomaly_detection/fig\")\n",
    "os.makedirs(output_dir, exist_ok=True)\n",
    "for i in range(results[0][0].shape[0]):\n",
    "    im_error = convert_to_image(results[0][0][i], min_val=error_min, max_val=error_max)\n",
    "    im_input = convert_to_image(images[0][i])\n",
    "    px.imshow(im_error).write_image(output_dir / f\"{i}_error.png\")\n",
    "    px.imshow(im_input).write_image(output_dir / f\"{i}_input.png\")"
   ]
  },
  {
   "cell_type": "markdown",
   "metadata": {},
   "source": [
    "## 異常スコアの分布を可視化"
   ]
  },
  {
   "cell_type": "code",
   "execution_count": null,
   "metadata": {},
   "outputs": [],
   "source": [
    "# 画像異常スコアの分布を確認\n",
    "# labelsを結合する\n",
    "all_label = np.concatenate(([l.numpy() for l in labels]))\n",
    "all_result = np.concatenate([r[1].cpu().detach().numpy() for r in results])\n",
    "df = pd.DataFrame({\"label\": all_label, \"result\": all_result})\n",
    "# labelカラムをtest_dataset.classesの値に置き換える\n",
    "df = df.replace({\"label\": {i: c for i, c in enumerate(test_dataset.classes)}})\n",
    "fig = px.strip(df, x=\"label\", y=\"result\")\n",
    "fig.update_layout(\n",
    "    title=\"画像異常スコアの分布\", xaxis_title=\"Label\", yaxis_title=\"異常スコア\"\n",
    ")\n",
    "fig.write_image(output_dir / \"violin.png\")"
   ]
  },
  {
   "cell_type": "code",
   "execution_count": null,
   "metadata": {},
   "outputs": [],
   "source": [
    "df[\"is_good_pred\"] = df[\"result\"].apply(lambda x: True if x < 10 else False)\n",
    "df[\"is_good_true\"] = df[\"label\"].apply(lambda x: True if x == \"good\" else False)\n",
    "df[\"correct\"] = df[\"is_good_pred\"] == df[\"is_good_true\"]\n",
    "df[\"correct\"].sum() / len(df)"
   ]
  }
 ],
 "metadata": {
  "kernelspec": {
   "display_name": ".venv",
   "language": "python",
   "name": "python3"
  },
  "language_info": {
   "codemirror_mode": {
    "name": "ipython",
    "version": 3
   },
   "file_extension": ".py",
   "mimetype": "text/x-python",
   "name": "python",
   "nbconvert_exporter": "python",
   "pygments_lexer": "ipython3",
   "version": "3.10.13"
  }
 },
 "nbformat": 4,
 "nbformat_minor": 2
}
