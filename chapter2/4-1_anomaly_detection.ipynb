{
 "cells": [
  {
   "cell_type": "markdown",
   "metadata": {},
   "source": [
    "# 教師なし異常検知\n",
    "## ライブラリのインストール"
   ]
  },
  {
   "cell_type": "code",
   "execution_count": 1,
   "metadata": {},
   "outputs": [
    {
     "name": "stdout",
     "output_type": "stream",
     "text": [
      "Requirement already satisfied: pandas in /home/ubuntu/finetuning_cookbook/.venv/lib/python3.10/site-packages (2.2.2)\n",
      "Requirement already satisfied: plotly in /home/ubuntu/finetuning_cookbook/.venv/lib/python3.10/site-packages (5.23.0)\n",
      "Requirement already satisfied: torch in /home/ubuntu/finetuning_cookbook/.venv/lib/python3.10/site-packages (2.4.0+cu118)\n",
      "Requirement already satisfied: torchvision in /home/ubuntu/finetuning_cookbook/.venv/lib/python3.10/site-packages (0.19.0+cu118)\n",
      "Requirement already satisfied: scikit-learn in /home/ubuntu/finetuning_cookbook/.venv/lib/python3.10/site-packages (1.5.1)\n",
      "Requirement already satisfied: tqdm in /home/ubuntu/finetuning_cookbook/.venv/lib/python3.10/site-packages (4.66.5)\n",
      "Requirement already satisfied: anomalib==0.7 in /home/ubuntu/finetuning_cookbook/.venv/lib/python3.10/site-packages (0.7.0)\n",
      "Requirement already satisfied: kornia<0.6.10,>=0.6.6 in /home/ubuntu/finetuning_cookbook/.venv/lib/python3.10/site-packages (from anomalib==0.7) (0.6.9)\n",
      "Requirement already satisfied: einops>=0.3.2 in /home/ubuntu/finetuning_cookbook/.venv/lib/python3.10/site-packages (from anomalib==0.7) (0.8.0)\n",
      "Requirement already satisfied: pytorch-lightning<1.10.0,>=1.7.0 in /home/ubuntu/finetuning_cookbook/.venv/lib/python3.10/site-packages (from anomalib==0.7) (1.9.5)\n",
      "Requirement already satisfied: timm<=0.6.12,>=0.5.4 in /home/ubuntu/finetuning_cookbook/.venv/lib/python3.10/site-packages (from anomalib==0.7) (0.6.12)\n",
      "Requirement already satisfied: matplotlib>=3.4.3 in /home/ubuntu/finetuning_cookbook/.venv/lib/python3.10/site-packages (from anomalib==0.7) (3.9.2)\n",
      "Requirement already satisfied: omegaconf>=2.1.1 in /home/ubuntu/finetuning_cookbook/.venv/lib/python3.10/site-packages (from anomalib==0.7) (2.3.0)\n",
      "Requirement already satisfied: av>=10.0.0 in /home/ubuntu/finetuning_cookbook/.venv/lib/python3.10/site-packages (from anomalib==0.7) (12.3.0)\n",
      "Requirement already satisfied: freia>=0.2 in /home/ubuntu/finetuning_cookbook/.venv/lib/python3.10/site-packages (from anomalib==0.7) (0.2)\n",
      "Requirement already satisfied: opencv-python>=4.5.3.56 in /home/ubuntu/finetuning_cookbook/.venv/lib/python3.10/site-packages (from anomalib==0.7) (4.10.0.84)\n",
      "Requirement already satisfied: torchmetrics==0.10.3 in /home/ubuntu/finetuning_cookbook/.venv/lib/python3.10/site-packages (from anomalib==0.7) (0.10.3)\n",
      "Requirement already satisfied: jsonargparse[signatures]>=4.3 in /home/ubuntu/finetuning_cookbook/.venv/lib/python3.10/site-packages (from anomalib==0.7) (4.32.1)\n",
      "Requirement already satisfied: albumentations>=1.1.0 in /home/ubuntu/finetuning_cookbook/.venv/lib/python3.10/site-packages (from anomalib==0.7) (1.4.14)\n",
      "Requirement already satisfied: imgaug==0.4.0 in /home/ubuntu/finetuning_cookbook/.venv/lib/python3.10/site-packages (from anomalib==0.7) (0.4.0)\n",
      "Requirement already satisfied: Pillow in /home/ubuntu/finetuning_cookbook/.venv/lib/python3.10/site-packages (from imgaug==0.4.0->anomalib==0.7) (10.4.0)\n",
      "Requirement already satisfied: scipy in /home/ubuntu/finetuning_cookbook/.venv/lib/python3.10/site-packages (from imgaug==0.4.0->anomalib==0.7) (1.14.1)\n",
      "Requirement already satisfied: imageio in /home/ubuntu/finetuning_cookbook/.venv/lib/python3.10/site-packages (from imgaug==0.4.0->anomalib==0.7) (2.35.1)\n",
      "Requirement already satisfied: Shapely in /home/ubuntu/finetuning_cookbook/.venv/lib/python3.10/site-packages (from imgaug==0.4.0->anomalib==0.7) (2.0.6)\n",
      "Requirement already satisfied: six in /home/ubuntu/finetuning_cookbook/.venv/lib/python3.10/site-packages (from imgaug==0.4.0->anomalib==0.7) (1.16.0)\n",
      "Requirement already satisfied: scikit-image>=0.14.2 in /home/ubuntu/finetuning_cookbook/.venv/lib/python3.10/site-packages (from imgaug==0.4.0->anomalib==0.7) (0.24.0)\n",
      "Requirement already satisfied: numpy>=1.15 in /home/ubuntu/finetuning_cookbook/.venv/lib/python3.10/site-packages (from imgaug==0.4.0->anomalib==0.7) (1.26.4)\n",
      "Requirement already satisfied: packaging in /home/ubuntu/finetuning_cookbook/.venv/lib/python3.10/site-packages (from torchmetrics==0.10.3->anomalib==0.7) (24.1)\n",
      "Requirement already satisfied: python-dateutil>=2.8.2 in /home/ubuntu/finetuning_cookbook/.venv/lib/python3.10/site-packages (from pandas) (2.9.0.post0)\n",
      "Requirement already satisfied: pytz>=2020.1 in /home/ubuntu/finetuning_cookbook/.venv/lib/python3.10/site-packages (from pandas) (2024.1)\n",
      "Requirement already satisfied: tzdata>=2022.7 in /home/ubuntu/finetuning_cookbook/.venv/lib/python3.10/site-packages (from pandas) (2024.1)\n",
      "Requirement already satisfied: tenacity>=6.2.0 in /home/ubuntu/finetuning_cookbook/.venv/lib/python3.10/site-packages (from plotly) (9.0.0)\n",
      "Requirement already satisfied: nvidia-cublas-cu11==11.11.3.6 in /home/ubuntu/finetuning_cookbook/.venv/lib/python3.10/site-packages (from torch) (11.11.3.6)\n",
      "Requirement already satisfied: nvidia-cuda-runtime-cu11==11.8.89 in /home/ubuntu/finetuning_cookbook/.venv/lib/python3.10/site-packages (from torch) (11.8.89)\n",
      "Requirement already satisfied: nvidia-curand-cu11==10.3.0.86 in /home/ubuntu/finetuning_cookbook/.venv/lib/python3.10/site-packages (from torch) (10.3.0.86)\n",
      "Requirement already satisfied: triton==3.0.0 in /home/ubuntu/finetuning_cookbook/.venv/lib/python3.10/site-packages (from torch) (3.0.0)\n",
      "Requirement already satisfied: jinja2 in /home/ubuntu/finetuning_cookbook/.venv/lib/python3.10/site-packages (from torch) (3.1.4)\n",
      "Requirement already satisfied: nvidia-cuda-cupti-cu11==11.8.87 in /home/ubuntu/finetuning_cookbook/.venv/lib/python3.10/site-packages (from torch) (11.8.87)\n",
      "Requirement already satisfied: nvidia-cusparse-cu11==11.7.5.86 in /home/ubuntu/finetuning_cookbook/.venv/lib/python3.10/site-packages (from torch) (11.7.5.86)\n",
      "Requirement already satisfied: networkx in /home/ubuntu/finetuning_cookbook/.venv/lib/python3.10/site-packages (from torch) (3.3)\n",
      "Requirement already satisfied: filelock in /home/ubuntu/finetuning_cookbook/.venv/lib/python3.10/site-packages (from torch) (3.15.4)\n",
      "Requirement already satisfied: nvidia-cuda-nvrtc-cu11==11.8.89 in /home/ubuntu/finetuning_cookbook/.venv/lib/python3.10/site-packages (from torch) (11.8.89)\n",
      "Requirement already satisfied: typing-extensions>=4.8.0 in /home/ubuntu/finetuning_cookbook/.venv/lib/python3.10/site-packages (from torch) (4.12.2)\n",
      "Requirement already satisfied: nvidia-cusolver-cu11==11.4.1.48 in /home/ubuntu/finetuning_cookbook/.venv/lib/python3.10/site-packages (from torch) (11.4.1.48)\n",
      "Requirement already satisfied: nvidia-nccl-cu11==2.20.5 in /home/ubuntu/finetuning_cookbook/.venv/lib/python3.10/site-packages (from torch) (2.20.5)\n",
      "Requirement already satisfied: nvidia-cudnn-cu11==9.1.0.70 in /home/ubuntu/finetuning_cookbook/.venv/lib/python3.10/site-packages (from torch) (9.1.0.70)\n",
      "Requirement already satisfied: nvidia-nvtx-cu11==11.8.86 in /home/ubuntu/finetuning_cookbook/.venv/lib/python3.10/site-packages (from torch) (11.8.86)\n",
      "Requirement already satisfied: sympy in /home/ubuntu/finetuning_cookbook/.venv/lib/python3.10/site-packages (from torch) (1.13.2)\n",
      "Requirement already satisfied: fsspec in /home/ubuntu/finetuning_cookbook/.venv/lib/python3.10/site-packages (from torch) (2024.6.1)\n",
      "Requirement already satisfied: nvidia-cufft-cu11==10.9.0.58 in /home/ubuntu/finetuning_cookbook/.venv/lib/python3.10/site-packages (from torch) (10.9.0.58)\n",
      "Requirement already satisfied: joblib>=1.2.0 in /home/ubuntu/finetuning_cookbook/.venv/lib/python3.10/site-packages (from scikit-learn) (1.4.2)\n",
      "Requirement already satisfied: threadpoolctl>=3.1.0 in /home/ubuntu/finetuning_cookbook/.venv/lib/python3.10/site-packages (from scikit-learn) (3.5.0)\n",
      "Requirement already satisfied: pydantic>=2.7.0 in /home/ubuntu/finetuning_cookbook/.venv/lib/python3.10/site-packages (from albumentations>=1.1.0->anomalib==0.7) (2.8.2)\n",
      "Requirement already satisfied: albucore>=0.0.13 in /home/ubuntu/finetuning_cookbook/.venv/lib/python3.10/site-packages (from albumentations>=1.1.0->anomalib==0.7) (0.0.14)\n",
      "Requirement already satisfied: PyYAML in /home/ubuntu/finetuning_cookbook/.venv/lib/python3.10/site-packages (from albumentations>=1.1.0->anomalib==0.7) (6.0.2)\n",
      "Requirement already satisfied: opencv-python-headless>=4.9.0.80 in /home/ubuntu/finetuning_cookbook/.venv/lib/python3.10/site-packages (from albumentations>=1.1.0->anomalib==0.7) (4.10.0.84)\n",
      "Requirement already satisfied: eval-type-backport in /home/ubuntu/finetuning_cookbook/.venv/lib/python3.10/site-packages (from albumentations>=1.1.0->anomalib==0.7) (0.2.0)\n",
      "Requirement already satisfied: docstring-parser>=0.15 in /home/ubuntu/finetuning_cookbook/.venv/lib/python3.10/site-packages (from jsonargparse[signatures]>=4.3->anomalib==0.7) (0.16)\n",
      "Requirement already satisfied: typeshed-client>=2.1.0 in /home/ubuntu/finetuning_cookbook/.venv/lib/python3.10/site-packages (from jsonargparse[signatures]>=4.3->anomalib==0.7) (2.7.0)\n",
      "Requirement already satisfied: contourpy>=1.0.1 in /home/ubuntu/finetuning_cookbook/.venv/lib/python3.10/site-packages (from matplotlib>=3.4.3->anomalib==0.7) (1.3.0)\n",
      "Requirement already satisfied: kiwisolver>=1.3.1 in /home/ubuntu/finetuning_cookbook/.venv/lib/python3.10/site-packages (from matplotlib>=3.4.3->anomalib==0.7) (1.4.5)\n",
      "Requirement already satisfied: pyparsing>=2.3.1 in /home/ubuntu/finetuning_cookbook/.venv/lib/python3.10/site-packages (from matplotlib>=3.4.3->anomalib==0.7) (3.1.4)\n",
      "Requirement already satisfied: cycler>=0.10 in /home/ubuntu/finetuning_cookbook/.venv/lib/python3.10/site-packages (from matplotlib>=3.4.3->anomalib==0.7) (0.12.1)\n",
      "Requirement already satisfied: fonttools>=4.22.0 in /home/ubuntu/finetuning_cookbook/.venv/lib/python3.10/site-packages (from matplotlib>=3.4.3->anomalib==0.7) (4.53.1)\n",
      "Requirement already satisfied: antlr4-python3-runtime==4.9.* in /home/ubuntu/finetuning_cookbook/.venv/lib/python3.10/site-packages (from omegaconf>=2.1.1->anomalib==0.7) (4.9.3)\n",
      "Requirement already satisfied: lightning-utilities>=0.6.0.post0 in /home/ubuntu/finetuning_cookbook/.venv/lib/python3.10/site-packages (from pytorch-lightning<1.10.0,>=1.7.0->anomalib==0.7) (0.11.6)\n",
      "Requirement already satisfied: huggingface-hub in /home/ubuntu/finetuning_cookbook/.venv/lib/python3.10/site-packages (from timm<=0.6.12,>=0.5.4->anomalib==0.7) (0.24.6)\n",
      "Requirement already satisfied: MarkupSafe>=2.0 in /home/ubuntu/finetuning_cookbook/.venv/lib/python3.10/site-packages (from jinja2->torch) (2.1.5)\n",
      "Requirement already satisfied: mpmath<1.4,>=1.1.0 in /home/ubuntu/finetuning_cookbook/.venv/lib/python3.10/site-packages (from sympy->torch) (1.3.0)\n",
      "Requirement already satisfied: aiohttp!=4.0.0a0,!=4.0.0a1 in /home/ubuntu/finetuning_cookbook/.venv/lib/python3.10/site-packages (from fsspec->torch) (3.10.5)\n",
      "Requirement already satisfied: setuptools in /home/ubuntu/finetuning_cookbook/.venv/lib/python3.10/site-packages (from lightning-utilities>=0.6.0.post0->pytorch-lightning<1.10.0,>=1.7.0->anomalib==0.7) (65.5.0)\n",
      "Requirement already satisfied: annotated-types>=0.4.0 in /home/ubuntu/finetuning_cookbook/.venv/lib/python3.10/site-packages (from pydantic>=2.7.0->albumentations>=1.1.0->anomalib==0.7) (0.7.0)\n",
      "Requirement already satisfied: pydantic-core==2.20.1 in /home/ubuntu/finetuning_cookbook/.venv/lib/python3.10/site-packages (from pydantic>=2.7.0->albumentations>=1.1.0->anomalib==0.7) (2.20.1)\n",
      "Requirement already satisfied: tifffile>=2022.8.12 in /home/ubuntu/finetuning_cookbook/.venv/lib/python3.10/site-packages (from scikit-image>=0.14.2->imgaug==0.4.0->anomalib==0.7) (2024.8.28)\n",
      "Requirement already satisfied: lazy-loader>=0.4 in /home/ubuntu/finetuning_cookbook/.venv/lib/python3.10/site-packages (from scikit-image>=0.14.2->imgaug==0.4.0->anomalib==0.7) (0.4)\n",
      "Requirement already satisfied: importlib-resources>=1.4.0 in /home/ubuntu/finetuning_cookbook/.venv/lib/python3.10/site-packages (from typeshed-client>=2.1.0->jsonargparse[signatures]>=4.3->anomalib==0.7) (6.4.4)\n",
      "Requirement already satisfied: requests in /home/ubuntu/finetuning_cookbook/.venv/lib/python3.10/site-packages (from huggingface-hub->timm<=0.6.12,>=0.5.4->anomalib==0.7) (2.32.3)\n",
      "Requirement already satisfied: aiosignal>=1.1.2 in /home/ubuntu/finetuning_cookbook/.venv/lib/python3.10/site-packages (from aiohttp!=4.0.0a0,!=4.0.0a1->fsspec->torch) (1.3.1)\n",
      "Requirement already satisfied: multidict<7.0,>=4.5 in /home/ubuntu/finetuning_cookbook/.venv/lib/python3.10/site-packages (from aiohttp!=4.0.0a0,!=4.0.0a1->fsspec->torch) (6.0.5)\n",
      "Requirement already satisfied: frozenlist>=1.1.1 in /home/ubuntu/finetuning_cookbook/.venv/lib/python3.10/site-packages (from aiohttp!=4.0.0a0,!=4.0.0a1->fsspec->torch) (1.4.1)\n",
      "Requirement already satisfied: yarl<2.0,>=1.0 in /home/ubuntu/finetuning_cookbook/.venv/lib/python3.10/site-packages (from aiohttp!=4.0.0a0,!=4.0.0a1->fsspec->torch) (1.9.4)\n",
      "Requirement already satisfied: attrs>=17.3.0 in /home/ubuntu/finetuning_cookbook/.venv/lib/python3.10/site-packages (from aiohttp!=4.0.0a0,!=4.0.0a1->fsspec->torch) (24.2.0)\n",
      "Requirement already satisfied: aiohappyeyeballs>=2.3.0 in /home/ubuntu/finetuning_cookbook/.venv/lib/python3.10/site-packages (from aiohttp!=4.0.0a0,!=4.0.0a1->fsspec->torch) (2.4.0)\n",
      "Requirement already satisfied: async-timeout<5.0,>=4.0 in /home/ubuntu/finetuning_cookbook/.venv/lib/python3.10/site-packages (from aiohttp!=4.0.0a0,!=4.0.0a1->fsspec->torch) (4.0.3)\n",
      "Requirement already satisfied: idna<4,>=2.5 in /home/ubuntu/finetuning_cookbook/.venv/lib/python3.10/site-packages (from requests->huggingface-hub->timm<=0.6.12,>=0.5.4->anomalib==0.7) (3.8)\n",
      "Requirement already satisfied: certifi>=2017.4.17 in /home/ubuntu/finetuning_cookbook/.venv/lib/python3.10/site-packages (from requests->huggingface-hub->timm<=0.6.12,>=0.5.4->anomalib==0.7) (2024.7.4)\n",
      "Requirement already satisfied: charset-normalizer<4,>=2 in /home/ubuntu/finetuning_cookbook/.venv/lib/python3.10/site-packages (from requests->huggingface-hub->timm<=0.6.12,>=0.5.4->anomalib==0.7) (3.3.2)\n",
      "Requirement already satisfied: urllib3<3,>=1.21.1 in /home/ubuntu/finetuning_cookbook/.venv/lib/python3.10/site-packages (from requests->huggingface-hub->timm<=0.6.12,>=0.5.4->anomalib==0.7) (2.2.2)\n",
      "\n",
      "\u001b[1m[\u001b[0m\u001b[34;49mnotice\u001b[0m\u001b[1;39;49m]\u001b[0m\u001b[39;49m A new release of pip is available: \u001b[0m\u001b[31;49m23.0.1\u001b[0m\u001b[39;49m -> \u001b[0m\u001b[32;49m24.2\u001b[0m\n",
      "\u001b[1m[\u001b[0m\u001b[34;49mnotice\u001b[0m\u001b[1;39;49m]\u001b[0m\u001b[39;49m To update, run: \u001b[0m\u001b[32;49mpip install --upgrade pip\u001b[0m\n",
      "Note: you may need to restart the kernel to use updated packages.\n"
     ]
    }
   ],
   "source": [
    "%pip install pandas plotly torch torchvision scikit-learn plotly tqdm anomalib==0.7"
   ]
  },
  {
   "cell_type": "code",
   "execution_count": 2,
   "metadata": {},
   "outputs": [
    {
     "name": "stderr",
     "output_type": "stream",
     "text": [
      "/home/ubuntu/finetuning_cookbook/.venv/lib/python3.10/site-packages/tqdm/auto.py:21: TqdmWarning: IProgress not found. Please update jupyter and ipywidgets. See https://ipywidgets.readthedocs.io/en/stable/user_install.html\n",
      "  from .autonotebook import tqdm as notebook_tqdm\n"
     ]
    }
   ],
   "source": [
    "import os\n",
    "from pathlib import Path\n",
    "\n",
    "import numpy as np\n",
    "import pandas as pd\n",
    "import plotly.express as px\n",
    "import torch\n",
    "from anomalib.models.patchcore.torch_model import PatchcoreModel\n",
    "from torch.utils.data import DataLoader\n",
    "from torchvision import datasets, transforms\n",
    "from tqdm import tqdm\n",
    "import requests\n",
    "import tarfile"
   ]
  },
  {
   "cell_type": "markdown",
   "metadata": {},
   "source": [
    "\n",
    "## データセットのダウンロード\n",
    "\n",
    "[mvtec](https://www.mvtec.com/company/research/datasets/mvtec-ad/downloads)からデータをダウンロードする。"
   ]
  },
  {
   "cell_type": "code",
   "execution_count": 4,
   "metadata": {},
   "outputs": [],
   "source": [
    "# ダウンロードするURL\n",
    "url = \"https://www.mydrive.ch/shares/38536/3830184030e49fe74747669442f0f282/download/420937370-1629951468/bottle.tar.xz\"\n",
    "# 保存先ディレクトリ\n",
    "save_dir = Path(\"data/mvtec_anomaly_detection\")\n",
    "# 保存するファイル名\n",
    "file_name = \"bottle.tar.xz\"\n",
    "# 保存するファイルのパス\n",
    "file_path = save_dir / file_name\n",
    "if not file_path.exists():\n",
    "\n",
    "    # ディレクトリが存在しない場合は作成\n",
    "    os.makedirs(save_dir, exist_ok=True)\n",
    "\n",
    "    # ファイルをダウンロードして保存\n",
    "    response = requests.get(url, stream=True)\n",
    "    with open(file_path, 'wb') as file:\n",
    "        for chunk in response.iter_content(chunk_size=8192):\n",
    "            file.write(chunk)\n",
    "\n",
    "    # ダウンロードしたファイルを展開\n",
    "    with tarfile.open(file_path, 'r:xz') as tar:\n",
    "        tar.extractall(path=save_dir)\n",
    "\n",
    "    print(f\"ファイルを {save_dir} フォルダにダウンロードして展開しました。\")"
   ]
  },
  {
   "cell_type": "markdown",
   "metadata": {},
   "source": [
    "# モデルの作成"
   ]
  },
  {
   "cell_type": "code",
   "execution_count": 5,
   "metadata": {},
   "outputs": [
    {
     "name": "stderr",
     "output_type": "stream",
     "text": [
      "FeatureExtractor is deprecated. Use TimmFeatureExtractor instead. Both FeatureExtractor and TimmFeatureExtractor will be removed in a future release.\n"
     ]
    }
   ],
   "source": [
    "# モデルの読み込み\n",
    "model = PatchcoreModel(input_size=(64, 64), layers=[\"layer1\", \"layer4\"])\n",
    "\n",
    "# データセットの読み込み\n",
    "transform = transforms.Compose([transforms.Resize((64, 64)), transforms.ToTensor()])\n",
    "train_dataset = datasets.ImageFolder(\n",
    "    root=\"./data/mvtec_anomaly_detection/bottle/train\", transform=transform\n",
    ")\n",
    "train_loader = DataLoader(train_dataset, batch_size=len(train_dataset), shuffle=True)\n",
    "test_dataset = datasets.ImageFolder(\n",
    "    root=\"./data/mvtec_anomaly_detection/bottle/test\", transform=transform\n",
    ")\n",
    "test_loader = DataLoader(test_dataset, batch_size=32, shuffle=False)"
   ]
  },
  {
   "cell_type": "markdown",
   "metadata": {},
   "source": [
    "## 学習の実行"
   ]
  },
  {
   "cell_type": "code",
   "execution_count": null,
   "metadata": {},
   "outputs": [],
   "source": [
    "# デバイスの設定（GPUが利用可能な場合）\n",
    "device = torch.device(\"cuda\" if torch.cuda.is_available() else \"cpu\")\n",
    "model.to(device)\n",
    "\n",
    "# 学習(教師データをembedding)\n",
    "model.train()\n",
    "for data in tqdm(train_loader):\n",
    "    inputs, _ = data\n",
    "    inputs = inputs.to(device)\n",
    "    outputs = model(inputs)\n",
    "model.subsample_embedding(outputs, 0.1)"
   ]
  },
  {
   "cell_type": "markdown",
   "metadata": {},
   "source": [
    "## 評価"
   ]
  },
  {
   "cell_type": "code",
   "execution_count": null,
   "metadata": {},
   "outputs": [],
   "source": [
    "# 推論(テストデータの異常スコアを計算)\n",
    "model.eval()\n",
    "results = []\n",
    "labels = []\n",
    "images = []\n",
    "with torch.no_grad():\n",
    "    for data in tqdm(test_loader):\n",
    "        inputs, label = data\n",
    "        images.append(inputs)\n",
    "        inputs = inputs.to(device)\n",
    "        result = model(inputs)\n",
    "        results.append(result)\n",
    "        labels.append(label)"
   ]
  },
  {
   "cell_type": "markdown",
   "metadata": {},
   "source": [
    "### 異常スコアの可視化"
   ]
  },
  {
   "cell_type": "code",
   "execution_count": null,
   "metadata": {},
   "outputs": [],
   "source": [
    "# 異常スコアの可視化\n",
    "# tensor を画像で表示\n",
    "def convert_to_image(\n",
    "    image: torch.Tensor,\n",
    "    max_val: float | None = None,\n",
    "    min_val: float | None = None,\n",
    "):\n",
    "    # tensorをnumpyに変換\n",
    "    im = image.cpu().detach().numpy()\n",
    "    # 画像の最大値、最小値を指定\n",
    "    if max_val is None:\n",
    "        max_val = im.max()\n",
    "    if min_val is None:\n",
    "        min_val = im.min()\n",
    "    # 画像の正規化\n",
    "    im = np.transpose(im, (1, 2, 0))\n",
    "    im = (im - min_val) / (max_val - min_val)\n",
    "    im = (im * 255).astype(np.uint8)\n",
    "    # 画像のチャンネル数が1の場合、3チャンネルに変換\n",
    "    if im.shape[2] == 1:\n",
    "        im = np.repeat(im, 3, axis=2)\n",
    "    # 画像の表示\n",
    "    return im\n",
    "\n",
    "\n",
    "# ピクセルごとの異常スコアを表示する\n",
    "i = 8\n",
    "error_min = results[0][0].min().item()\n",
    "error_max = results[0][0].max().item()\n",
    "output_dir = Path(\"output/anomaly_detection/fig\")\n",
    "os.makedirs(output_dir, exist_ok=True)\n",
    "for i in range(results[0][0].shape[0]):\n",
    "    im_error = convert_to_image(results[0][0][i], min_val=error_min, max_val=error_max)\n",
    "    im_input = convert_to_image(images[0][i])\n",
    "    px.imshow(im_error).write_image(output_dir / f\"{i}_error.png\")\n",
    "    px.imshow(im_input).write_image(output_dir / f\"{i}_input.png\")"
   ]
  },
  {
   "cell_type": "markdown",
   "metadata": {},
   "source": [
    "## 異常スコアの分布を可視化"
   ]
  },
  {
   "cell_type": "code",
   "execution_count": null,
   "metadata": {},
   "outputs": [],
   "source": [
    "# 画像異常スコアの分布を確認\n",
    "# labelsを結合する\n",
    "all_label = np.concatenate(([l.numpy() for l in labels]))\n",
    "all_result = np.concatenate([r[1].cpu().detach().numpy() for r in results])\n",
    "df = pd.DataFrame({\"label\": all_label, \"result\": all_result})\n",
    "# labelカラムをtest_dataset.classesの値に置き換える\n",
    "df = df.replace({\"label\": {i: c for i, c in enumerate(test_dataset.classes)}})\n",
    "fig = px.strip(df, x=\"label\", y=\"result\")\n",
    "fig.update_layout(\n",
    "    title=\"画像異常スコアの分布\", xaxis_title=\"Label\", yaxis_title=\"異常スコア\"\n",
    ")\n",
    "fig.write_image(output_dir / \"violin.png\")\n",
    "fig"
   ]
  },
  {
   "cell_type": "markdown",
   "metadata": {},
   "source": [
    "## 異常検知の正解率を評価する"
   ]
  },
  {
   "cell_type": "code",
   "execution_count": null,
   "metadata": {},
   "outputs": [],
   "source": [
    "df[\"is_good_pred\"] = df[\"result\"].apply(lambda x: True if x < 10 else False)\n",
    "df[\"is_good_true\"] = df[\"label\"].apply(lambda x: True if x == \"good\" else False)\n",
    "df[\"correct\"] = df[\"is_good_pred\"] == df[\"is_good_true\"]\n",
    "corr = df[\"correct\"].sum() / len(df)\n",
    "print(f\"成果率は{corr}\")"
   ]
  }
 ],
 "metadata": {
  "kernelspec": {
   "display_name": ".venv",
   "language": "python",
   "name": "python3"
  },
  "language_info": {
   "codemirror_mode": {
    "name": "ipython",
    "version": 3
   },
   "file_extension": ".py",
   "mimetype": "text/x-python",
   "name": "python",
   "nbconvert_exporter": "python",
   "pygments_lexer": "ipython3",
   "version": "3.10.13"
  }
 },
 "nbformat": 4,
 "nbformat_minor": 2
}
